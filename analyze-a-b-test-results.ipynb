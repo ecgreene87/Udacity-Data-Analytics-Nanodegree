{
 "cells": [
  {
   "cell_type": "markdown",
   "id": "85cdd68d",
   "metadata": {
    "papermill": {
     "duration": 0.013178,
     "end_time": "2024-11-18T02:41:52.168765",
     "exception": false,
     "start_time": "2024-11-18T02:41:52.155587",
     "status": "completed"
    },
    "tags": []
   },
   "source": [
    "## **Analyze A/B Test Results**\n",
    "\n",
    "A company recently launched a new webpage design aimed at improving user engagement and increasing conversions. To evaluate its effectiveness, the company decided to conduct an A/B test to compare the new webpage with the current version. The goal is to determine whether the new design leads to a statistically significant increase in conversions.\n",
    "In this A/B test, the audience was split randomly into two groups of equal size:\n",
    "+ **Control Group**: Users who interacted with the current webpage.\n",
    "+ **Test Group**: Users who interacted with the new webpage.\n",
    "\n",
    "The company expects an analysis of the results to determine whether the new webpage design should be adopted.\n",
    "\n",
    "### **Data Overview**\n",
    "The dataset used for this analysis contains 69,889 rows, where each row represents a user interaction. Key attributes include:\n",
    "+ **Country**: The user's geographic location.\n",
    "+ **Group**: Indicates whether the user was in the Control or Test group.\n",
    "+ **Converted**: A binary indicator showing whether the user converted (1 for converted, 0 for not converted).\n"
   ]
  },
  {
   "cell_type": "code",
   "execution_count": 1,
   "id": "2d26ab5e",
   "metadata": {
    "execution": {
     "iopub.execute_input": "2024-11-18T02:41:52.195952Z",
     "iopub.status.busy": "2024-11-18T02:41:52.195374Z",
     "iopub.status.idle": "2024-11-18T02:41:53.231807Z",
     "shell.execute_reply": "2024-11-18T02:41:53.230744Z"
    },
    "papermill": {
     "duration": 1.053334,
     "end_time": "2024-11-18T02:41:53.234618",
     "exception": false,
     "start_time": "2024-11-18T02:41:52.181284",
     "status": "completed"
    },
    "tags": []
   },
   "outputs": [],
   "source": [
    "#import Necessary packages\n",
    "import pandas as pd\n",
    "import numpy as np\n",
    "import random\n",
    "import matplotlib.pyplot as plt\n",
    "%matplotlib inline"
   ]
  },
  {
   "cell_type": "code",
   "execution_count": 2,
   "id": "b8793a2b",
   "metadata": {
    "execution": {
     "iopub.execute_input": "2024-11-18T02:41:53.262363Z",
     "iopub.status.busy": "2024-11-18T02:41:53.261728Z",
     "iopub.status.idle": "2024-11-18T02:41:53.347580Z",
     "shell.execute_reply": "2024-11-18T02:41:53.346446Z"
    },
    "papermill": {
     "duration": 0.102136,
     "end_time": "2024-11-18T02:41:53.350108",
     "exception": false,
     "start_time": "2024-11-18T02:41:53.247972",
     "status": "completed"
    },
    "tags": []
   },
   "outputs": [
    {
     "data": {
      "text/html": [
       "<div>\n",
       "<style scoped>\n",
       "    .dataframe tbody tr th:only-of-type {\n",
       "        vertical-align: middle;\n",
       "    }\n",
       "\n",
       "    .dataframe tbody tr th {\n",
       "        vertical-align: top;\n",
       "    }\n",
       "\n",
       "    .dataframe thead th {\n",
       "        text-align: right;\n",
       "    }\n",
       "</style>\n",
       "<table border=\"1\" class=\"dataframe\">\n",
       "  <thead>\n",
       "    <tr style=\"text-align: right;\">\n",
       "      <th></th>\n",
       "      <th>country</th>\n",
       "      <th>group</th>\n",
       "      <th>converted</th>\n",
       "    </tr>\n",
       "  </thead>\n",
       "  <tbody>\n",
       "    <tr>\n",
       "      <th>0</th>\n",
       "      <td>UK</td>\n",
       "      <td>control</td>\n",
       "      <td>0</td>\n",
       "    </tr>\n",
       "    <tr>\n",
       "      <th>1</th>\n",
       "      <td>US</td>\n",
       "      <td>treatment</td>\n",
       "      <td>1</td>\n",
       "    </tr>\n",
       "    <tr>\n",
       "      <th>2</th>\n",
       "      <td>UK</td>\n",
       "      <td>treatment</td>\n",
       "      <td>0</td>\n",
       "    </tr>\n",
       "    <tr>\n",
       "      <th>3</th>\n",
       "      <td>UK</td>\n",
       "      <td>control</td>\n",
       "      <td>0</td>\n",
       "    </tr>\n",
       "    <tr>\n",
       "      <th>4</th>\n",
       "      <td>UK</td>\n",
       "      <td>treatment</td>\n",
       "      <td>0</td>\n",
       "    </tr>\n",
       "  </tbody>\n",
       "</table>\n",
       "</div>"
      ],
      "text/plain": [
       "  country      group  converted\n",
       "0      UK    control          0\n",
       "1      US  treatment          1\n",
       "2      UK  treatment          0\n",
       "3      UK    control          0\n",
       "4      UK  treatment          0"
      ]
     },
     "execution_count": 2,
     "metadata": {},
     "output_type": "execute_result"
    }
   ],
   "source": [
    "#store dataset do df\n",
    "df = pd.read_csv('/kaggle/input/ab-test-results-e-commerce/ab_data.csv')\n",
    "df.head()"
   ]
  },
  {
   "cell_type": "code",
   "execution_count": 3,
   "id": "ac6c9ab8",
   "metadata": {
    "execution": {
     "iopub.execute_input": "2024-11-18T02:41:53.377279Z",
     "iopub.status.busy": "2024-11-18T02:41:53.376872Z",
     "iopub.status.idle": "2024-11-18T02:41:53.384047Z",
     "shell.execute_reply": "2024-11-18T02:41:53.382944Z"
    },
    "papermill": {
     "duration": 0.023846,
     "end_time": "2024-11-18T02:41:53.386676",
     "exception": false,
     "start_time": "2024-11-18T02:41:53.362830",
     "status": "completed"
    },
    "tags": []
   },
   "outputs": [
    {
     "data": {
      "text/plain": [
       "(69889, 3)"
      ]
     },
     "execution_count": 3,
     "metadata": {},
     "output_type": "execute_result"
    }
   ],
   "source": [
    "#find shape of data\n",
    "df.shape"
   ]
  },
  {
   "cell_type": "code",
   "execution_count": 4,
   "id": "c4763090",
   "metadata": {
    "execution": {
     "iopub.execute_input": "2024-11-18T02:41:53.414389Z",
     "iopub.status.busy": "2024-11-18T02:41:53.413949Z",
     "iopub.status.idle": "2024-11-18T02:41:53.424123Z",
     "shell.execute_reply": "2024-11-18T02:41:53.423200Z"
    },
    "papermill": {
     "duration": 0.026955,
     "end_time": "2024-11-18T02:41:53.426508",
     "exception": false,
     "start_time": "2024-11-18T02:41:53.399553",
     "status": "completed"
    },
    "tags": []
   },
   "outputs": [
    {
     "data": {
      "text/plain": [
       "0.13047832992316388"
      ]
     },
     "execution_count": 4,
     "metadata": {},
     "output_type": "execute_result"
    }
   ],
   "source": [
    "#Find proportion of users converted\n",
    "(df['converted'] == 1).mean()"
   ]
  },
  {
   "cell_type": "code",
   "execution_count": 5,
   "id": "d96cfc31",
   "metadata": {
    "execution": {
     "iopub.execute_input": "2024-11-18T02:41:53.454197Z",
     "iopub.status.busy": "2024-11-18T02:41:53.453785Z",
     "iopub.status.idle": "2024-11-18T02:41:53.479006Z",
     "shell.execute_reply": "2024-11-18T02:41:53.477862Z"
    },
    "papermill": {
     "duration": 0.042085,
     "end_time": "2024-11-18T02:41:53.481553",
     "exception": false,
     "start_time": "2024-11-18T02:41:53.439468",
     "status": "completed"
    },
    "tags": []
   },
   "outputs": [
    {
     "data": {
      "text/plain": [
       "False"
      ]
     },
     "execution_count": 5,
     "metadata": {},
     "output_type": "execute_result"
    }
   ],
   "source": [
    "#find if any rows have missing values\n",
    "df.isnull().sum().sum() > 0"
   ]
  },
  {
   "cell_type": "code",
   "execution_count": 6,
   "id": "11700d58",
   "metadata": {
    "execution": {
     "iopub.execute_input": "2024-11-18T02:41:53.509368Z",
     "iopub.status.busy": "2024-11-18T02:41:53.508912Z",
     "iopub.status.idle": "2024-11-18T02:41:53.838141Z",
     "shell.execute_reply": "2024-11-18T02:41:53.836968Z"
    },
    "papermill": {
     "duration": 0.346081,
     "end_time": "2024-11-18T02:41:53.840732",
     "exception": false,
     "start_time": "2024-11-18T02:41:53.494651",
     "status": "completed"
    },
    "tags": []
   },
   "outputs": [
    {
     "data": {
      "image/png": "[encoded data removed]",
      "text/plain": [
       "<Figure size 640x480 with 1 Axes>"
      ]
     },
     "metadata": {},
     "output_type": "display_data"
    }
   ],
   "source": [
    "#plot number of visitors from each country\n",
    "df['country'].value_counts().plot(kind='bar')\n",
    "plt.title('Number of Visits From Each Country')\n",
    "plt.ylabel('Count of Visits')\n",
    "plt.show()"
   ]
  },
  {
   "cell_type": "code",
   "execution_count": 7,
   "id": "fbbf0b9a",
   "metadata": {
    "execution": {
     "iopub.execute_input": "2024-11-18T02:41:53.869482Z",
     "iopub.status.busy": "2024-11-18T02:41:53.869019Z",
     "iopub.status.idle": "2024-11-18T02:41:53.877356Z",
     "shell.execute_reply": "2024-11-18T02:41:53.876336Z"
    },
    "papermill": {
     "duration": 0.025557,
     "end_time": "2024-11-18T02:41:53.879746",
     "exception": false,
     "start_time": "2024-11-18T02:41:53.854189",
     "status": "completed"
    },
    "tags": []
   },
   "outputs": [
    {
     "data": {
      "text/plain": [
       "0.13047832992316388"
      ]
     },
     "execution_count": 7,
     "metadata": {},
     "output_type": "execute_result"
    }
   ],
   "source": [
    "#find probability of conversion\n",
    "(df['converted'] == 1).sum() / len(df['converted'])"
   ]
  },
  {
   "cell_type": "code",
   "execution_count": 8,
   "id": "f0020a30",
   "metadata": {
    "execution": {
     "iopub.execute_input": "2024-11-18T02:41:53.909272Z",
     "iopub.status.busy": "2024-11-18T02:41:53.908223Z",
     "iopub.status.idle": "2024-11-18T02:41:53.933572Z",
     "shell.execute_reply": "2024-11-18T02:41:53.932377Z"
    },
    "papermill": {
     "duration": 0.042612,
     "end_time": "2024-11-18T02:41:53.936003",
     "exception": false,
     "start_time": "2024-11-18T02:41:53.893391",
     "status": "completed"
    },
    "tags": []
   },
   "outputs": [
    {
     "data": {
      "text/plain": [
       "0.1052540515600669"
      ]
     },
     "execution_count": 8,
     "metadata": {},
     "output_type": "execute_result"
    }
   ],
   "source": [
    "#find probability of conversion from the control page\n",
    "df.query('group == \"control\"')['converted'].mean()"
   ]
  },
  {
   "cell_type": "code",
   "execution_count": 9,
   "id": "c3edfaa6",
   "metadata": {
    "execution": {
     "iopub.execute_input": "2024-11-18T02:41:53.965507Z",
     "iopub.status.busy": "2024-11-18T02:41:53.965043Z",
     "iopub.status.idle": "2024-11-18T02:41:53.982358Z",
     "shell.execute_reply": "2024-11-18T02:41:53.981311Z"
    },
    "papermill": {
     "duration": 0.035045,
     "end_time": "2024-11-18T02:41:53.985042",
     "exception": false,
     "start_time": "2024-11-18T02:41:53.949997",
     "status": "completed"
    },
    "tags": []
   },
   "outputs": [
    {
     "data": {
      "text/plain": [
       "0.15532078043793132"
      ]
     },
     "execution_count": 9,
     "metadata": {},
     "output_type": "execute_result"
    }
   ],
   "source": [
    "#find probability of conversion from the treatment page\n",
    "df.query('group == \"treatment\"')['converted'].mean()"
   ]
  },
  {
   "cell_type": "code",
   "execution_count": 10,
   "id": "1665f624",
   "metadata": {
    "execution": {
     "iopub.execute_input": "2024-11-18T02:41:54.014656Z",
     "iopub.status.busy": "2024-11-18T02:41:54.014214Z",
     "iopub.status.idle": "2024-11-18T02:41:54.037648Z",
     "shell.execute_reply": "2024-11-18T02:41:54.036519Z"
    },
    "papermill": {
     "duration": 0.041212,
     "end_time": "2024-11-18T02:41:54.040223",
     "exception": false,
     "start_time": "2024-11-18T02:41:53.999011",
     "status": "completed"
    },
    "tags": []
   },
   "outputs": [
    {
     "data": {
      "text/plain": [
       "0.5038131894861853"
      ]
     },
     "execution_count": 10,
     "metadata": {},
     "output_type": "execute_result"
    }
   ],
   "source": [
    "#find probability that an individual used treatment\n",
    "((df['group'] == 'treatment').sum()) / len(df['group'])"
   ]
  },
  {
   "cell_type": "code",
   "execution_count": 11,
   "id": "c4ab7ab9",
   "metadata": {
    "execution": {
     "iopub.execute_input": "2024-11-18T02:41:54.070374Z",
     "iopub.status.busy": "2024-11-18T02:41:54.069919Z",
     "iopub.status.idle": "2024-11-18T02:41:54.093748Z",
     "shell.execute_reply": "2024-11-18T02:41:54.092600Z"
    },
    "papermill": {
     "duration": 0.041814,
     "end_time": "2024-11-18T02:41:54.096267",
     "exception": false,
     "start_time": "2024-11-18T02:41:54.054453",
     "status": "completed"
    },
    "tags": []
   },
   "outputs": [
    {
     "data": {
      "text/plain": [
       "0.04990771079855199"
      ]
     },
     "execution_count": 11,
     "metadata": {},
     "output_type": "execute_result"
    }
   ],
   "source": [
    "#find probability that user was from canada\n",
    "(df['country'] == 'CA').sum() / len(df['country'])"
   ]
  },
  {
   "cell_type": "code",
   "execution_count": 12,
   "id": "5faadb31",
   "metadata": {
    "execution": {
     "iopub.execute_input": "2024-11-18T02:41:54.127232Z",
     "iopub.status.busy": "2024-11-18T02:41:54.126161Z",
     "iopub.status.idle": "2024-11-18T02:41:54.145135Z",
     "shell.execute_reply": "2024-11-18T02:41:54.144012Z"
    },
    "papermill": {
     "duration": 0.037002,
     "end_time": "2024-11-18T02:41:54.147706",
     "exception": false,
     "start_time": "2024-11-18T02:41:54.110704",
     "status": "completed"
    },
    "tags": []
   },
   "outputs": [
    {
     "data": {
      "text/plain": [
       "0.13277379733879222"
      ]
     },
     "execution_count": 12,
     "metadata": {},
     "output_type": "execute_result"
    }
   ],
   "source": [
    "#find probability of conversion that a user was in the US\n",
    "df.query('country == \"US\"')['converted'].mean()"
   ]
  },
  {
   "cell_type": "markdown",
   "id": "22f5f713",
   "metadata": {
    "papermill": {
     "duration": 0.013796,
     "end_time": "2024-11-18T02:41:54.175785",
     "exception": false,
     "start_time": "2024-11-18T02:41:54.161989",
     "status": "completed"
    },
    "tags": []
   },
   "source": [
    "`h)` Given that an individual was in the `UK`, what was the probability that they `converted`? $P(\\text{converted} == 1|\\text{country} ==\\text{\"UK\"})$"
   ]
  },
  {
   "cell_type": "code",
   "execution_count": 13,
   "id": "f7f85bce",
   "metadata": {
    "execution": {
     "iopub.execute_input": "2024-11-18T02:41:54.206368Z",
     "iopub.status.busy": "2024-11-18T02:41:54.205906Z",
     "iopub.status.idle": "2024-11-18T02:41:54.222637Z",
     "shell.execute_reply": "2024-11-18T02:41:54.221552Z"
    },
    "papermill": {
     "duration": 0.035038,
     "end_time": "2024-11-18T02:41:54.225276",
     "exception": false,
     "start_time": "2024-11-18T02:41:54.190238",
     "status": "completed"
    },
    "tags": []
   },
   "outputs": [
    {
     "data": {
      "text/plain": [
       "0.12512107572218106"
      ]
     },
     "execution_count": 13,
     "metadata": {},
     "output_type": "execute_result"
    }
   ],
   "source": [
    "#find probability of conversion that a user was in the UK\n",
    "df.query('country == \"UK\"')['converted'].mean()"
   ]
  },
  {
   "cell_type": "code",
   "execution_count": 14,
   "id": "32747f8d",
   "metadata": {
    "execution": {
     "iopub.execute_input": "2024-11-18T02:41:54.257383Z",
     "iopub.status.busy": "2024-11-18T02:41:54.256934Z",
     "iopub.status.idle": "2024-11-18T02:41:54.316698Z",
     "shell.execute_reply": "2024-11-18T02:41:54.315549Z"
    },
    "papermill": {
     "duration": 0.079268,
     "end_time": "2024-11-18T02:41:54.319440",
     "exception": false,
     "start_time": "2024-11-18T02:41:54.240172",
     "status": "completed"
    },
    "tags": []
   },
   "outputs": [
    {
     "data": {
      "text/html": [
       "<div>\n",
       "<style scoped>\n",
       "    .dataframe tbody tr th:only-of-type {\n",
       "        vertical-align: middle;\n",
       "    }\n",
       "\n",
       "    .dataframe tbody tr th {\n",
       "        vertical-align: top;\n",
       "    }\n",
       "\n",
       "    .dataframe thead th {\n",
       "        text-align: right;\n",
       "    }\n",
       "</style>\n",
       "<table border=\"1\" class=\"dataframe\">\n",
       "  <thead>\n",
       "    <tr style=\"text-align: right;\">\n",
       "      <th></th>\n",
       "      <th>US</th>\n",
       "      <th>UK</th>\n",
       "      <th>CA</th>\n",
       "    </tr>\n",
       "    <tr>\n",
       "      <th>group</th>\n",
       "      <th></th>\n",
       "      <th></th>\n",
       "      <th></th>\n",
       "    </tr>\n",
       "  </thead>\n",
       "  <tbody>\n",
       "    <tr>\n",
       "      <th>control</th>\n",
       "      <td>10.7%</td>\n",
       "      <td>10.2%</td>\n",
       "      <td>9.4%</td>\n",
       "    </tr>\n",
       "    <tr>\n",
       "      <th>treatment</th>\n",
       "      <td>15.8%</td>\n",
       "      <td>14.9%</td>\n",
       "      <td>15.4%</td>\n",
       "    </tr>\n",
       "  </tbody>\n",
       "</table>\n",
       "</div>"
      ],
      "text/plain": [
       "              US     UK     CA\n",
       "group                         \n",
       "control    10.7%  10.2%   9.4%\n",
       "treatment  15.8%  14.9%  15.4%"
      ]
     },
     "execution_count": 14,
     "metadata": {},
     "output_type": "execute_result"
    }
   ],
   "source": [
    "#create table with conversion rates \n",
    "us_conversion = df.query('country == \"US\"').groupby('group')['converted'].mean()\n",
    "uk_conversion = df.query('country == \"UK\"').groupby('group')['converted'].mean()\n",
    "ca_conversion = df.query('country == \"CA\"').groupby('group')['converted'].mean()\n",
    "country_conversion_rates = pd.DataFrame({    \n",
    "    'US': us_conversion,    'UK': uk_conversion,    \n",
    "    'CA': ca_conversion})\n",
    "country_conversion_rates = country_conversion_rates.map(lambda x: f\"{x*100:.1f}%\")\n",
    "country_conversion_rates"
   ]
  },
  {
   "cell_type": "markdown",
   "id": "da411a14",
   "metadata": {
    "papermill": {
     "duration": 0.014505,
     "end_time": "2024-11-18T02:41:54.349103",
     "exception": false,
     "start_time": "2024-11-18T02:41:54.334598",
     "status": "completed"
    },
    "tags": []
   },
   "source": [
    "## Analysis of conversion rates\n",
    "These probabilities indicate that the Treatment page is consistently associated with higher conversions across all countries. This suggests that the Treatment page has a positive impact on conversion regardless of location. Also, due to the fact that the individual countries have minimal differences in conversion, this suggests that the location itself has little influence on conversion."
   ]
  },
  {
   "cell_type": "code",
   "execution_count": 15,
   "id": "4d51c924",
   "metadata": {
    "execution": {
     "iopub.execute_input": "2024-11-18T02:41:54.380866Z",
     "iopub.status.busy": "2024-11-18T02:41:54.380413Z",
     "iopub.status.idle": "2024-11-18T02:41:54.405829Z",
     "shell.execute_reply": "2024-11-18T02:41:54.404708Z"
    },
    "papermill": {
     "duration": 0.044574,
     "end_time": "2024-11-18T02:41:54.408706",
     "exception": false,
     "start_time": "2024-11-18T02:41:54.364132",
     "status": "completed"
    },
    "tags": []
   },
   "outputs": [],
   "source": [
    "#calculate conversion rate under null hypothesis\n",
    "p_control_treatment_null  = df['converted'].mean()\n",
    "\n",
    "#create samples for control group under null hypothesis\n",
    "n_treatment = df.query('group == \"treatment\"').shape[0]\n",
    "\n",
    "#create samples for control group under null hypothesis\n",
    "n_control = df.query('group == \"control\"').shape[0]"
   ]
  },
  {
   "cell_type": "code",
   "execution_count": 16,
   "id": "81e7ea61",
   "metadata": {
    "execution": {
     "iopub.execute_input": "2024-11-18T02:41:54.441757Z",
     "iopub.status.busy": "2024-11-18T02:41:54.440964Z",
     "iopub.status.idle": "2024-11-18T02:41:54.448686Z",
     "shell.execute_reply": "2024-11-18T02:41:54.447363Z"
    },
    "papermill": {
     "duration": 0.026965,
     "end_time": "2024-11-18T02:41:54.451235",
     "exception": false,
     "start_time": "2024-11-18T02:41:54.424270",
     "status": "completed"
    },
    "tags": []
   },
   "outputs": [
    {
     "data": {
      "text/plain": [
       "0.13047832992316388"
      ]
     },
     "execution_count": 16,
     "metadata": {},
     "output_type": "execute_result"
    }
   ],
   "source": [
    "p_control_treatment_null"
   ]
  },
  {
   "cell_type": "code",
   "execution_count": 17,
   "id": "311560be",
   "metadata": {
    "execution": {
     "iopub.execute_input": "2024-11-18T02:41:54.484030Z",
     "iopub.status.busy": "2024-11-18T02:41:54.483181Z",
     "iopub.status.idle": "2024-11-18T02:41:54.490746Z",
     "shell.execute_reply": "2024-11-18T02:41:54.489559Z"
    },
    "papermill": {
     "duration": 0.026468,
     "end_time": "2024-11-18T02:41:54.493217",
     "exception": false,
     "start_time": "2024-11-18T02:41:54.466749",
     "status": "completed"
    },
    "tags": []
   },
   "outputs": [
    {
     "data": {
      "text/plain": [
       "35211"
      ]
     },
     "execution_count": 17,
     "metadata": {},
     "output_type": "execute_result"
    }
   ],
   "source": [
    "n_treatment"
   ]
  },
  {
   "cell_type": "code",
   "execution_count": 18,
   "id": "4a4a7dc0",
   "metadata": {
    "execution": {
     "iopub.execute_input": "2024-11-18T02:41:54.526364Z",
     "iopub.status.busy": "2024-11-18T02:41:54.525225Z",
     "iopub.status.idle": "2024-11-18T02:41:54.532970Z",
     "shell.execute_reply": "2024-11-18T02:41:54.531824Z"
    },
    "papermill": {
     "duration": 0.027009,
     "end_time": "2024-11-18T02:41:54.535471",
     "exception": false,
     "start_time": "2024-11-18T02:41:54.508462",
     "status": "completed"
    },
    "tags": []
   },
   "outputs": [
    {
     "data": {
      "text/plain": [
       "34678"
      ]
     },
     "execution_count": 18,
     "metadata": {},
     "output_type": "execute_result"
    }
   ],
   "source": [
    "n_control"
   ]
  },
  {
   "cell_type": "code",
   "execution_count": 19,
   "id": "e66925ac",
   "metadata": {
    "execution": {
     "iopub.execute_input": "2024-11-18T02:41:54.569153Z",
     "iopub.status.busy": "2024-11-18T02:41:54.568726Z",
     "iopub.status.idle": "2024-11-18T02:41:54.578889Z",
     "shell.execute_reply": "2024-11-18T02:41:54.577748Z"
    },
    "papermill": {
     "duration": 0.03046,
     "end_time": "2024-11-18T02:41:54.581444",
     "exception": false,
     "start_time": "2024-11-18T02:41:54.550984",
     "status": "completed"
    },
    "tags": []
   },
   "outputs": [],
   "source": [
    "#simulate transactions (null treatment)\n",
    "treatment_converted = np.random.choice([0, 1],size=n_treatment, p=[1 - p_control_treatment_null, p_control_treatment_null])"
   ]
  },
  {
   "cell_type": "code",
   "execution_count": 20,
   "id": "601daec9",
   "metadata": {
    "execution": {
     "iopub.execute_input": "2024-11-18T02:41:54.614096Z",
     "iopub.status.busy": "2024-11-18T02:41:54.613268Z",
     "iopub.status.idle": "2024-11-18T02:41:54.619903Z",
     "shell.execute_reply": "2024-11-18T02:41:54.618815Z"
    },
    "papermill": {
     "duration": 0.025845,
     "end_time": "2024-11-18T02:41:54.622461",
     "exception": false,
     "start_time": "2024-11-18T02:41:54.596616",
     "status": "completed"
    },
    "tags": []
   },
   "outputs": [],
   "source": [
    "#simulate transactions (null conversion)\n",
    "control_converted = np.random.choice([0, 1], size=n_control, p=[1 - p_control_treatment_null, p_control_treatment_null])"
   ]
  },
  {
   "cell_type": "code",
   "execution_count": 21,
   "id": "053b1838",
   "metadata": {
    "execution": {
     "iopub.execute_input": "2024-11-18T02:41:54.657316Z",
     "iopub.status.busy": "2024-11-18T02:41:54.656180Z",
     "iopub.status.idle": "2024-11-18T02:41:54.662390Z",
     "shell.execute_reply": "2024-11-18T02:41:54.661332Z"
    },
    "papermill": {
     "duration": 0.027097,
     "end_time": "2024-11-18T02:41:54.664886",
     "exception": false,
     "start_time": "2024-11-18T02:41:54.637789",
     "status": "completed"
    },
    "tags": []
   },
   "outputs": [],
   "source": [
    "#calculate average conversion rate(treatment)\n",
    "mean_treatment = treatment_converted.mean()\n",
    "\n",
    "#calculate average conversion rate(control)\n",
    "mean_control = control_converted.mean()"
   ]
  },
  {
   "cell_type": "code",
   "execution_count": 22,
   "id": "a11dc27d",
   "metadata": {
    "execution": {
     "iopub.execute_input": "2024-11-18T02:41:54.697174Z",
     "iopub.status.busy": "2024-11-18T02:41:54.696720Z",
     "iopub.status.idle": "2024-11-18T02:41:54.704138Z",
     "shell.execute_reply": "2024-11-18T02:41:54.703138Z"
    },
    "papermill": {
     "duration": 0.026577,
     "end_time": "2024-11-18T02:41:54.706667",
     "exception": false,
     "start_time": "2024-11-18T02:41:54.680090",
     "status": "completed"
    },
    "tags": []
   },
   "outputs": [
    {
     "data": {
      "text/plain": [
       "0.00017753124138805698"
      ]
     },
     "execution_count": 22,
     "metadata": {},
     "output_type": "execute_result"
    }
   ],
   "source": [
    "#find difference\n",
    "estimate = mean_treatment - mean_control\n",
    "estimate"
   ]
  },
  {
   "cell_type": "markdown",
   "id": "9afe08ba",
   "metadata": {
    "papermill": {
     "duration": 0.014981,
     "end_time": "2024-11-18T02:41:54.737084",
     "exception": false,
     "start_time": "2024-11-18T02:41:54.722103",
     "status": "completed"
    },
    "tags": []
   },
   "source": [
    "## Analysis of conversion rate comparison\n",
    "The conversion rates for the Treatment and the Control groups are nearly identical. The p-value of -.0.002 suggests that there is no statistically significant difference between the two groups."
   ]
  },
  {
   "cell_type": "code",
   "execution_count": 23,
   "id": "39206e29",
   "metadata": {
    "execution": {
     "iopub.execute_input": "2024-11-18T02:41:54.770104Z",
     "iopub.status.busy": "2024-11-18T02:41:54.769685Z",
     "iopub.status.idle": "2024-11-18T02:41:54.779307Z",
     "shell.execute_reply": "2024-11-18T02:41:54.778310Z"
    },
    "papermill": {
     "duration": 0.029212,
     "end_time": "2024-11-18T02:41:54.781731",
     "exception": false,
     "start_time": "2024-11-18T02:41:54.752519",
     "status": "completed"
    },
    "tags": []
   },
   "outputs": [],
   "source": [
    "p_diffs = []\n",
    "for _ in range(500):    \n",
    "    # simulate the treatment and control converted arrays    \n",
    "    treatment_conversions = np.random.binomial(n_treatment, p_control_treatment_null)    \n",
    "    control_conversions = np.random.binomial(n_control, p_control_treatment_null)         \n",
    "    \n",
    "    # calculate p_treatment and p_control under the null    \n",
    "    p_treatment = treatment_conversions / n_treatment    \n",
    "    p_control = control_conversions / n_control        \n",
    "    \n",
    "    # calculate the difference between p_treatment_null and p_control_null    \n",
    "    p_diff = p_treatment - p_control        \n",
    "    \n",
    "    # add p_diff to the p_diffs array    \n",
    "    p_diffs.append(p_diff)"
   ]
  },
  {
   "cell_type": "code",
   "execution_count": 24,
   "id": "f8485569",
   "metadata": {
    "execution": {
     "iopub.execute_input": "2024-11-18T02:41:54.814588Z",
     "iopub.status.busy": "2024-11-18T02:41:54.813777Z",
     "iopub.status.idle": "2024-11-18T02:41:55.106053Z",
     "shell.execute_reply": "2024-11-18T02:41:55.104734Z"
    },
    "papermill": {
     "duration": 0.311423,
     "end_time": "2024-11-18T02:41:55.108538",
     "exception": false,
     "start_time": "2024-11-18T02:41:54.797115",
     "status": "completed"
    },
    "tags": []
   },
   "outputs": [
    {
     "data": {
      "text/plain": [
       "<Axes: >"
      ]
     },
     "execution_count": 24,
     "metadata": {},
     "output_type": "execute_result"
    },
    {
     "data": {
      "image/png": "[encoded data removed]",
      "text/plain": [
       "<Figure size 640x480 with 1 Axes>"
      ]
     },
     "metadata": {},
     "output_type": "display_data"
    }
   ],
   "source": [
    "#create histogram of p_diffs\n",
    "\n",
    "p_diffs = pd.Series(p_diffs)\n",
    "p_diffs.hist(bins=20)"
   ]
  },
  {
   "cell_type": "code",
   "execution_count": 25,
   "id": "70950450",
   "metadata": {
    "execution": {
     "iopub.execute_input": "2024-11-18T02:41:55.142092Z",
     "iopub.status.busy": "2024-11-18T02:41:55.141656Z",
     "iopub.status.idle": "2024-11-18T02:41:55.186355Z",
     "shell.execute_reply": "2024-11-18T02:41:55.185134Z"
    },
    "papermill": {
     "duration": 0.064467,
     "end_time": "2024-11-18T02:41:55.188845",
     "exception": false,
     "start_time": "2024-11-18T02:41:55.124378",
     "status": "completed"
    },
    "tags": []
   },
   "outputs": [
    {
     "data": {
      "text/plain": [
       "0.0"
      ]
     },
     "execution_count": 25,
     "metadata": {},
     "output_type": "execute_result"
    }
   ],
   "source": [
    "# calculate new difference in proportions from df\n",
    "new_treatment = df[df['group'] == 'treatment']['converted'].mean()\n",
    "new_control = df[df['group'] == 'control']['converted'].mean()\n",
    "new_diff = new_treatment - new_control\n",
    "\n",
    "#calculate proportion of p_diff > new difference\n",
    "proportion_greater = np.mean(p_diffs > new_diff)\n",
    "\n",
    "proportion_greater"
   ]
  },
  {
   "cell_type": "markdown",
   "id": "7d182948",
   "metadata": {
    "papermill": {
     "duration": 0.015849,
     "end_time": "2024-11-18T02:41:55.220783",
     "exception": false,
     "start_time": "2024-11-18T02:41:55.204934",
     "status": "completed"
    },
    "tags": []
   },
   "source": [
    "## Part IV - Regression Analysis for A/B Test"
   ]
  },
  {
   "cell_type": "code",
   "execution_count": 26,
   "id": "58d2bdac",
   "metadata": {
    "execution": {
     "iopub.execute_input": "2024-11-18T02:41:55.254338Z",
     "iopub.status.busy": "2024-11-18T02:41:55.253866Z",
     "iopub.status.idle": "2024-11-18T02:41:55.278609Z",
     "shell.execute_reply": "2024-11-18T02:41:55.277503Z"
    },
    "papermill": {
     "duration": 0.044575,
     "end_time": "2024-11-18T02:41:55.281280",
     "exception": false,
     "start_time": "2024-11-18T02:41:55.236705",
     "status": "completed"
    },
    "tags": []
   },
   "outputs": [
    {
     "data": {
      "text/html": [
       "<div>\n",
       "<style scoped>\n",
       "    .dataframe tbody tr th:only-of-type {\n",
       "        vertical-align: middle;\n",
       "    }\n",
       "\n",
       "    .dataframe tbody tr th {\n",
       "        vertical-align: top;\n",
       "    }\n",
       "\n",
       "    .dataframe thead th {\n",
       "        text-align: right;\n",
       "    }\n",
       "</style>\n",
       "<table border=\"1\" class=\"dataframe\">\n",
       "  <thead>\n",
       "    <tr style=\"text-align: right;\">\n",
       "      <th></th>\n",
       "      <th>country</th>\n",
       "      <th>group</th>\n",
       "      <th>converted</th>\n",
       "      <th>intercept</th>\n",
       "      <th>ab_page</th>\n",
       "    </tr>\n",
       "  </thead>\n",
       "  <tbody>\n",
       "    <tr>\n",
       "      <th>0</th>\n",
       "      <td>UK</td>\n",
       "      <td>control</td>\n",
       "      <td>0</td>\n",
       "      <td>1</td>\n",
       "      <td>0</td>\n",
       "    </tr>\n",
       "    <tr>\n",
       "      <th>1</th>\n",
       "      <td>US</td>\n",
       "      <td>treatment</td>\n",
       "      <td>1</td>\n",
       "      <td>1</td>\n",
       "      <td>1</td>\n",
       "    </tr>\n",
       "    <tr>\n",
       "      <th>2</th>\n",
       "      <td>UK</td>\n",
       "      <td>treatment</td>\n",
       "      <td>0</td>\n",
       "      <td>1</td>\n",
       "      <td>1</td>\n",
       "    </tr>\n",
       "    <tr>\n",
       "      <th>3</th>\n",
       "      <td>UK</td>\n",
       "      <td>control</td>\n",
       "      <td>0</td>\n",
       "      <td>1</td>\n",
       "      <td>0</td>\n",
       "    </tr>\n",
       "    <tr>\n",
       "      <th>4</th>\n",
       "      <td>UK</td>\n",
       "      <td>treatment</td>\n",
       "      <td>0</td>\n",
       "      <td>1</td>\n",
       "      <td>1</td>\n",
       "    </tr>\n",
       "  </tbody>\n",
       "</table>\n",
       "</div>"
      ],
      "text/plain": [
       "  country      group  converted  intercept  ab_page\n",
       "0      UK    control          0          1        0\n",
       "1      US  treatment          1          1        1\n",
       "2      UK  treatment          0          1        1\n",
       "3      UK    control          0          1        0\n",
       "4      UK  treatment          0          1        1"
      ]
     },
     "execution_count": 26,
     "metadata": {},
     "output_type": "execute_result"
    }
   ],
   "source": [
    "#add intercept column\n",
    "df['intercept'] = 1\n",
    "\n",
    "#create new binary column (1=treatment, 0=control) \n",
    "df['ab_page'] = pd.get_dummies(df['group'])['treatment'].astype(int)\n",
    "df.head()"
   ]
  },
  {
   "cell_type": "code",
   "execution_count": 27,
   "id": "a96a2368",
   "metadata": {
    "execution": {
     "iopub.execute_input": "2024-11-18T02:41:55.316325Z",
     "iopub.status.busy": "2024-11-18T02:41:55.315436Z",
     "iopub.status.idle": "2024-11-18T02:41:55.323991Z",
     "shell.execute_reply": "2024-11-18T02:41:55.322955Z"
    },
    "papermill": {
     "duration": 0.028799,
     "end_time": "2024-11-18T02:41:55.326483",
     "exception": false,
     "start_time": "2024-11-18T02:41:55.297684",
     "status": "completed"
    },
    "tags": []
   },
   "outputs": [],
   "source": [
    "#create x matrix\n",
    "X = df[['intercept', 'ab_page']]\n",
    "\n",
    "#create y response column\n",
    "y = df['converted']"
   ]
  },
  {
   "cell_type": "code",
   "execution_count": 28,
   "id": "b6cda8d0",
   "metadata": {
    "execution": {
     "iopub.execute_input": "2024-11-18T02:41:55.360808Z",
     "iopub.status.busy": "2024-11-18T02:41:55.360358Z",
     "iopub.status.idle": "2024-11-18T02:41:58.880700Z",
     "shell.execute_reply": "2024-11-18T02:41:58.879093Z"
    },
    "papermill": {
     "duration": 3.542608,
     "end_time": "2024-11-18T02:41:58.885254",
     "exception": false,
     "start_time": "2024-11-18T02:41:55.342646",
     "status": "completed"
    },
    "tags": []
   },
   "outputs": [
    {
     "name": "stdout",
     "output_type": "stream",
     "text": [
      "Optimization terminated successfully.\n",
      "         Current function value: 0.384516\n",
      "         Iterations 6\n"
     ]
    }
   ],
   "source": [
    "#import statsmodels to fit regression model\n",
    "import statsmodels.api as sm\n",
    "logit_mod = sm.Logit(y, X)\n",
    "logit_res = logit_mod.fit()"
   ]
  },
  {
   "cell_type": "code",
   "execution_count": 29,
   "id": "c5cd4b92",
   "metadata": {
    "execution": {
     "iopub.execute_input": "2024-11-18T02:41:58.956518Z",
     "iopub.status.busy": "2024-11-18T02:41:58.955211Z",
     "iopub.status.idle": "2024-11-18T02:41:59.344153Z",
     "shell.execute_reply": "2024-11-18T02:41:59.342609Z"
    },
    "papermill": {
     "duration": 0.429388,
     "end_time": "2024-11-18T02:41:59.348844",
     "exception": false,
     "start_time": "2024-11-18T02:41:58.919456",
     "status": "completed"
    },
    "tags": []
   },
   "outputs": [
    {
     "name": "stdout",
     "output_type": "stream",
     "text": [
      "                           Logit Regression Results                           \n",
      "==============================================================================\n",
      "Dep. Variable:              converted   No. Observations:                69889\n",
      "Model:                          Logit   Df Residuals:                    69887\n",
      "Method:                           MLE   Df Model:                            1\n",
      "Date:                Mon, 18 Nov 2024   Pseudo R-squ.:                0.007175\n",
      "Time:                        02:41:59   Log-Likelihood:                -26873.\n",
      "converged:                       True   LL-Null:                       -27068.\n",
      "Covariance Type:            nonrobust   LLR p-value:                 1.810e-86\n",
      "==============================================================================\n",
      "                 coef    std err          z      P>|z|      [0.025      0.975]\n",
      "------------------------------------------------------------------------------\n",
      "intercept     -2.1402      0.017   -122.305      0.000      -2.174      -2.106\n",
      "ab_page        0.4467      0.023     19.539      0.000       0.402       0.492\n",
      "==============================================================================\n"
     ]
    }
   ],
   "source": [
    "#get summary\n",
    "print(logit_res.summary())"
   ]
  },
  {
   "cell_type": "markdown",
   "id": "af35cd1b",
   "metadata": {
    "papermill": {
     "duration": 0.033433,
     "end_time": "2024-11-18T02:41:59.417045",
     "exception": false,
     "start_time": "2024-11-18T02:41:59.383612",
     "status": "completed"
    },
    "tags": []
   },
   "source": [
    "Create two new columns as dummy variables for `US` and `UK`.  "
   ]
  },
  {
   "cell_type": "code",
   "execution_count": 30,
   "id": "351a7fb1",
   "metadata": {
    "execution": {
     "iopub.execute_input": "2024-11-18T02:41:59.469070Z",
     "iopub.status.busy": "2024-11-18T02:41:59.467858Z",
     "iopub.status.idle": "2024-11-18T02:41:59.493608Z",
     "shell.execute_reply": "2024-11-18T02:41:59.492376Z"
    },
    "papermill": {
     "duration": 0.046445,
     "end_time": "2024-11-18T02:41:59.496073",
     "exception": false,
     "start_time": "2024-11-18T02:41:59.449628",
     "status": "completed"
    },
    "tags": []
   },
   "outputs": [
    {
     "data": {
      "text/html": [
       "<div>\n",
       "<style scoped>\n",
       "    .dataframe tbody tr th:only-of-type {\n",
       "        vertical-align: middle;\n",
       "    }\n",
       "\n",
       "    .dataframe tbody tr th {\n",
       "        vertical-align: top;\n",
       "    }\n",
       "\n",
       "    .dataframe thead th {\n",
       "        text-align: right;\n",
       "    }\n",
       "</style>\n",
       "<table border=\"1\" class=\"dataframe\">\n",
       "  <thead>\n",
       "    <tr style=\"text-align: right;\">\n",
       "      <th></th>\n",
       "      <th>country</th>\n",
       "      <th>group</th>\n",
       "      <th>converted</th>\n",
       "      <th>intercept</th>\n",
       "      <th>ab_page</th>\n",
       "      <th>US</th>\n",
       "      <th>UK</th>\n",
       "    </tr>\n",
       "  </thead>\n",
       "  <tbody>\n",
       "    <tr>\n",
       "      <th>0</th>\n",
       "      <td>UK</td>\n",
       "      <td>control</td>\n",
       "      <td>0</td>\n",
       "      <td>1</td>\n",
       "      <td>0</td>\n",
       "      <td>0</td>\n",
       "      <td>1</td>\n",
       "    </tr>\n",
       "    <tr>\n",
       "      <th>1</th>\n",
       "      <td>US</td>\n",
       "      <td>treatment</td>\n",
       "      <td>1</td>\n",
       "      <td>1</td>\n",
       "      <td>1</td>\n",
       "      <td>1</td>\n",
       "      <td>0</td>\n",
       "    </tr>\n",
       "    <tr>\n",
       "      <th>2</th>\n",
       "      <td>UK</td>\n",
       "      <td>treatment</td>\n",
       "      <td>0</td>\n",
       "      <td>1</td>\n",
       "      <td>1</td>\n",
       "      <td>0</td>\n",
       "      <td>1</td>\n",
       "    </tr>\n",
       "    <tr>\n",
       "      <th>3</th>\n",
       "      <td>UK</td>\n",
       "      <td>control</td>\n",
       "      <td>0</td>\n",
       "      <td>1</td>\n",
       "      <td>0</td>\n",
       "      <td>0</td>\n",
       "      <td>1</td>\n",
       "    </tr>\n",
       "    <tr>\n",
       "      <th>4</th>\n",
       "      <td>UK</td>\n",
       "      <td>treatment</td>\n",
       "      <td>0</td>\n",
       "      <td>1</td>\n",
       "      <td>1</td>\n",
       "      <td>0</td>\n",
       "      <td>1</td>\n",
       "    </tr>\n",
       "  </tbody>\n",
       "</table>\n",
       "</div>"
      ],
      "text/plain": [
       "  country      group  converted  intercept  ab_page  US  UK\n",
       "0      UK    control          0          1        0   0   1\n",
       "1      US  treatment          1          1        1   1   0\n",
       "2      UK  treatment          0          1        1   0   1\n",
       "3      UK    control          0          1        0   0   1\n",
       "4      UK  treatment          0          1        1   0   1"
      ]
     },
     "execution_count": 30,
     "metadata": {},
     "output_type": "execute_result"
    }
   ],
   "source": [
    "## Create two new columns for dummy variables\n",
    "df[['US', 'UK']] = pd.get_dummies(df['country'])[['US', 'UK']].astype(int)\n",
    "df.head()"
   ]
  },
  {
   "cell_type": "code",
   "execution_count": 31,
   "id": "c19efc43",
   "metadata": {
    "execution": {
     "iopub.execute_input": "2024-11-18T02:41:59.532363Z",
     "iopub.status.busy": "2024-11-18T02:41:59.531203Z",
     "iopub.status.idle": "2024-11-18T02:41:59.539297Z",
     "shell.execute_reply": "2024-11-18T02:41:59.538120Z"
    },
    "papermill": {
     "duration": 0.029227,
     "end_time": "2024-11-18T02:41:59.542017",
     "exception": false,
     "start_time": "2024-11-18T02:41:59.512790",
     "status": "completed"
    },
    "tags": []
   },
   "outputs": [],
   "source": [
    "#create x matrix and y response column\n",
    "X = df[['intercept', 'ab_page', 'US', 'UK']]\n",
    "y = df['converted']"
   ]
  },
  {
   "cell_type": "code",
   "execution_count": 32,
   "id": "877a0f97",
   "metadata": {
    "execution": {
     "iopub.execute_input": "2024-11-18T02:41:59.576942Z",
     "iopub.status.busy": "2024-11-18T02:41:59.576519Z",
     "iopub.status.idle": "2024-11-18T02:41:59.741236Z",
     "shell.execute_reply": "2024-11-18T02:41:59.739845Z"
    },
    "papermill": {
     "duration": 0.186718,
     "end_time": "2024-11-18T02:41:59.745329",
     "exception": false,
     "start_time": "2024-11-18T02:41:59.558611",
     "status": "completed"
    },
    "tags": []
   },
   "outputs": [
    {
     "name": "stdout",
     "output_type": "stream",
     "text": [
      "Optimization terminated successfully.\n",
      "         Current function value: 0.384463\n",
      "         Iterations 6\n"
     ]
    }
   ],
   "source": [
    "#statsmodels to fit regression model\n",
    "logit_mod = sm.Logit(y, X) \n",
    "logit_res = logit_mod.fit()"
   ]
  },
  {
   "cell_type": "code",
   "execution_count": 33,
   "id": "cb31e547",
   "metadata": {
    "execution": {
     "iopub.execute_input": "2024-11-18T02:41:59.818623Z",
     "iopub.status.busy": "2024-11-18T02:41:59.817868Z",
     "iopub.status.idle": "2024-11-18T02:42:00.226637Z",
     "shell.execute_reply": "2024-11-18T02:42:00.225435Z"
    },
    "papermill": {
     "duration": 0.450305,
     "end_time": "2024-11-18T02:42:00.231062",
     "exception": false,
     "start_time": "2024-11-18T02:41:59.780757",
     "status": "completed"
    },
    "tags": []
   },
   "outputs": [
    {
     "data": {
      "text/html": [
       "<table class=\"simpletable\">\n",
       "<caption>Logit Regression Results</caption>\n",
       "<tr>\n",
       "  <th>Dep. Variable:</th>       <td>converted</td>    <th>  No. Observations:  </th>  <td> 69889</td>  \n",
       "</tr>\n",
       "<tr>\n",
       "  <th>Model:</th>                 <td>Logit</td>      <th>  Df Residuals:      </th>  <td> 69885</td>  \n",
       "</tr>\n",
       "<tr>\n",
       "  <th>Method:</th>                 <td>MLE</td>       <th>  Df Model:          </th>  <td>     3</td>  \n",
       "</tr>\n",
       "<tr>\n",
       "  <th>Date:</th>            <td>Mon, 18 Nov 2024</td> <th>  Pseudo R-squ.:     </th> <td>0.007312</td> \n",
       "</tr>\n",
       "<tr>\n",
       "  <th>Time:</th>                <td>02:42:00</td>     <th>  Log-Likelihood:    </th> <td> -26870.</td> \n",
       "</tr>\n",
       "<tr>\n",
       "  <th>converged:</th>             <td>True</td>       <th>  LL-Null:           </th> <td> -27068.</td> \n",
       "</tr>\n",
       "<tr>\n",
       "  <th>Covariance Type:</th>     <td>nonrobust</td>    <th>  LLR p-value:       </th> <td>1.778e-85</td>\n",
       "</tr>\n",
       "</table>\n",
       "<table class=\"simpletable\">\n",
       "<tr>\n",
       "      <td></td>         <th>coef</th>     <th>std err</th>      <th>z</th>      <th>P>|z|</th>  <th>[0.025</th>    <th>0.975]</th>  \n",
       "</tr>\n",
       "<tr>\n",
       "  <th>intercept</th> <td>   -2.1930</td> <td>    0.053</td> <td>  -41.308</td> <td> 0.000</td> <td>   -2.297</td> <td>   -2.089</td>\n",
       "</tr>\n",
       "<tr>\n",
       "  <th>ab_page</th>   <td>    0.4466</td> <td>    0.023</td> <td>   19.534</td> <td> 0.000</td> <td>    0.402</td> <td>    0.491</td>\n",
       "</tr>\n",
       "<tr>\n",
       "  <th>US</th>        <td>    0.0727</td> <td>    0.053</td> <td>    1.372</td> <td> 0.170</td> <td>   -0.031</td> <td>    0.177</td>\n",
       "</tr>\n",
       "<tr>\n",
       "  <th>UK</th>        <td>    0.0067</td> <td>    0.056</td> <td>    0.120</td> <td> 0.905</td> <td>   -0.103</td> <td>    0.117</td>\n",
       "</tr>\n",
       "</table>"
      ],
      "text/latex": [
       "\\begin{center}\n",
       "\\begin{tabular}{lclc}\n",
       "\\toprule\n",
       "\\textbf{Dep. Variable:}   &    converted     & \\textbf{  No. Observations:  } &    69889    \\\\\n",
       "\\textbf{Model:}           &      Logit       & \\textbf{  Df Residuals:      } &    69885    \\\\\n",
       "\\textbf{Method:}          &       MLE        & \\textbf{  Df Model:          } &        3    \\\\\n",
       "\\textbf{Date:}            & Mon, 18 Nov 2024 & \\textbf{  Pseudo R-squ.:     } &  0.007312   \\\\\n",
       "\\textbf{Time:}            &     02:42:00     & \\textbf{  Log-Likelihood:    } &   -26870.   \\\\\n",
       "\\textbf{converged:}       &       True       & \\textbf{  LL-Null:           } &   -27068.   \\\\\n",
       "\\textbf{Covariance Type:} &    nonrobust     & \\textbf{  LLR p-value:       } & 1.778e-85   \\\\\n",
       "\\bottomrule\n",
       "\\end{tabular}\n",
       "\\begin{tabular}{lcccccc}\n",
       "                   & \\textbf{coef} & \\textbf{std err} & \\textbf{z} & \\textbf{P$> |$z$|$} & \\textbf{[0.025} & \\textbf{0.975]}  \\\\\n",
       "\\midrule\n",
       "\\textbf{intercept} &      -2.1930  &        0.053     &   -41.308  &         0.000        &       -2.297    &       -2.089     \\\\\n",
       "\\textbf{ab\\_page}  &       0.4466  &        0.023     &    19.534  &         0.000        &        0.402    &        0.491     \\\\\n",
       "\\textbf{US}        &       0.0727  &        0.053     &     1.372  &         0.170        &       -0.031    &        0.177     \\\\\n",
       "\\textbf{UK}        &       0.0067  &        0.056     &     0.120  &         0.905        &       -0.103    &        0.117     \\\\\n",
       "\\bottomrule\n",
       "\\end{tabular}\n",
       "%\\caption{Logit Regression Results}\n",
       "\\end{center}"
      ],
      "text/plain": [
       "<class 'statsmodels.iolib.summary.Summary'>\n",
       "\"\"\"\n",
       "                           Logit Regression Results                           \n",
       "==============================================================================\n",
       "Dep. Variable:              converted   No. Observations:                69889\n",
       "Model:                          Logit   Df Residuals:                    69885\n",
       "Method:                           MLE   Df Model:                            3\n",
       "Date:                Mon, 18 Nov 2024   Pseudo R-squ.:                0.007312\n",
       "Time:                        02:42:00   Log-Likelihood:                -26870.\n",
       "converged:                       True   LL-Null:                       -27068.\n",
       "Covariance Type:            nonrobust   LLR p-value:                 1.778e-85\n",
       "==============================================================================\n",
       "                 coef    std err          z      P>|z|      [0.025      0.975]\n",
       "------------------------------------------------------------------------------\n",
       "intercept     -2.1930      0.053    -41.308      0.000      -2.297      -2.089\n",
       "ab_page        0.4466      0.023     19.534      0.000       0.402       0.491\n",
       "US             0.0727      0.053      1.372      0.170      -0.031       0.177\n",
       "UK             0.0067      0.056      0.120      0.905      -0.103       0.117\n",
       "==============================================================================\n",
       "\"\"\""
      ]
     },
     "execution_count": 33,
     "metadata": {},
     "output_type": "execute_result"
    }
   ],
   "source": [
    "#get summary\n",
    "logit_res.summary()"
   ]
  },
  {
   "cell_type": "markdown",
   "id": "38b083dc",
   "metadata": {
    "papermill": {
     "duration": 0.03501,
     "end_time": "2024-11-18T02:42:00.301735",
     "exception": false,
     "start_time": "2024-11-18T02:42:00.266725",
     "status": "completed"
    },
    "tags": []
   },
   "source": [
    "## Conclusion/Recommendation to customer\n",
    "The A/B test results show that the Treatment page has a slightly higher conversion rate (12.88%) than the Control page (12.90%), but the difference is negligible with a p-value of -0.002, indicating no statistically significant difference. This suggests that while the Treatment page may have a minor positive effect, location has little impact on conversion rates. Therefore, the Treatment page could be kept, but further optimizations should focus on other areas, such as user experience and testing new variations, to drive more significant improvements."
   ]
  }
 ],
 "metadata": {
  "kaggle": {
   "accelerator": "none",
   "dataSources": [
    {
     "datasetId": 6108522,
     "sourceId": 9936320,
     "sourceType": "datasetVersion"
    }
   ],
   "dockerImageVersionId": 30786,
   "isGpuEnabled": false,
   "isInternetEnabled": false,
   "language": "python",
   "sourceType": "notebook"
  },
  "kernelspec": {
   "display_name": "Python 3",
   "language": "python",
   "name": "python3"
  },
  "language_info": {
   "codemirror_mode": {
    "name": "ipython",
    "version": 3
   },
   "file_extension": ".py",
   "mimetype": "text/x-python",
   "name": "python",
   "nbconvert_exporter": "python",
   "pygments_lexer": "ipython3",
   "version": "3.10.14"
  },
  "papermill": {
   "default_parameters": {},
   "duration": 12.14676,
   "end_time": "2024-11-18T02:42:01.044763",
   "environment_variables": {},
   "exception": null,
   "input_path": "__notebook__.ipynb",
   "output_path": "__notebook__.ipynb",
   "parameters": {},
   "start_time": "2024-11-18T02:41:48.898003",
   "version": "2.6.0"
  },
  "vscode": {
   "interpreter": {
    "hash": "b34053042c33de92a8f6946323cebca57e40086129f2774c267076f4fb825384"
   }
  }
 },
 "nbformat": 4,
 "nbformat_minor": 5
}
