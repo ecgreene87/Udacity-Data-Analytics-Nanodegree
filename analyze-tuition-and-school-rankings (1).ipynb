{
 "cells": [
  {
   "cell_type": "markdown",
   "id": "2a300746",
   "metadata": {
    "id": "GNIwe5N7s0e_",
    "papermill": {
     "duration": 0.013028,
     "end_time": "2024-12-02T20:24:40.087105",
     "exception": false,
     "start_time": "2024-12-02T20:24:40.074077",
     "status": "completed"
    },
    "tags": []
   },
   "source": [
    "# Does Prestige Pay? Analyzing Tuition and School Rankings"
   ]
  },
  {
   "cell_type": "markdown",
   "id": "f3fc0426",
   "metadata": {
    "id": "LbN7z7rcuqpO",
    "papermill": {
     "duration": 0.011643,
     "end_time": "2024-12-02T20:24:40.111981",
     "exception": false,
     "start_time": "2024-12-02T20:24:40.100338",
     "status": "completed"
    },
    "tags": []
   },
   "source": [
    "### Problem Statement\n",
    "\n",
    "\n",
    "This analysis will explore if there a correlation between student tuition and school ranking.\n",
    "\n",
    "To analyze this, The following dataset will be utilized:\n",
    "- A dataset containing rankings of schools worldwide for the 2024 and 2025 academic years.\n",
    "- A dataset containing tuition costs and student enrollment sizes for various schools.\n",
    "\n",
    "By combining these datasets, this analysis aims to investigate whether higher tuition correlates with better rankings."
   ]
  },
  {
   "cell_type": "markdown",
   "id": "b280794f",
   "metadata": {
    "id": "8AQfBAdUypMm",
    "papermill": {
     "duration": 0.013687,
     "end_time": "2024-12-02T20:24:40.137600",
     "exception": false,
     "start_time": "2024-12-02T20:24:40.123913",
     "status": "completed"
    },
    "tags": []
   },
   "source": [
    "## Gather Data"
   ]
  },
  {
   "cell_type": "markdown",
   "id": "8a333680",
   "metadata": {
    "id": "7e6gS0wL1KTu",
    "papermill": {
     "duration": 0.011545,
     "end_time": "2024-12-02T20:24:40.161949",
     "exception": false,
     "start_time": "2024-12-02T20:24:40.150404",
     "status": "completed"
    },
    "tags": []
   },
   "source": [
    "#### **Dataset 1**\n",
    "\n",
    "Type: CSV File\n",
    "\n",
    "Method: The data was gathered using the \"Downloading files\" method via Kaggle. \n",
    "\n",
    "Source: https://www.kaggle.com/datasets/darrylljk/worlds-best-universities-qs-rankings-2025\n",
    "\n",
    "Variables that will be used:\n",
    "\n",
    "*   Variable 1 - Institution Name\n",
    "*   Variable 2 - 2024 Rank\n",
    "\n",
    "The dataset provides both 2024 2025 rankings. This analysis will only be utilizing 2024 rankings because it will analyze the correlation of tuition and rankings historically."
   ]
  },
  {
   "cell_type": "code",
   "execution_count": 1,
   "id": "9e2b4cff",
   "metadata": {
    "execution": {
     "iopub.execute_input": "2024-12-02T20:24:40.188544Z",
     "iopub.status.busy": "2024-12-02T20:24:40.188113Z",
     "iopub.status.idle": "2024-12-02T20:24:41.506045Z",
     "shell.execute_reply": "2024-12-02T20:24:41.504562Z"
    },
    "papermill": {
     "duration": 1.333587,
     "end_time": "2024-12-02T20:24:41.508529",
     "exception": false,
     "start_time": "2024-12-02T20:24:40.174942",
     "status": "completed"
    },
    "tags": []
   },
   "outputs": [],
   "source": [
    "#import packages\n",
    "\n",
    "import pandas as pd\n",
    "import numpy as np\n",
    "import matplotlib.pyplot as plt\n",
    "import os\n",
    "import requests"
   ]
  },
  {
   "cell_type": "code",
   "execution_count": 2,
   "id": "0fc13571",
   "metadata": {
    "execution": {
     "iopub.execute_input": "2024-12-02T20:24:41.535120Z",
     "iopub.status.busy": "2024-12-02T20:24:41.534585Z",
     "iopub.status.idle": "2024-12-02T20:24:41.593756Z",
     "shell.execute_reply": "2024-12-02T20:24:41.592445Z"
    },
    "id": "Su8E0uLuYkHU",
    "papermill": {
     "duration": 0.075044,
     "end_time": "2024-12-02T20:24:41.596365",
     "exception": false,
     "start_time": "2024-12-02T20:24:41.521321",
     "status": "completed"
    },
    "tags": []
   },
   "outputs": [
    {
     "data": {
      "text/html": [
       "<div>\n",
       "<style scoped>\n",
       "    .dataframe tbody tr th:only-of-type {\n",
       "        vertical-align: middle;\n",
       "    }\n",
       "\n",
       "    .dataframe tbody tr th {\n",
       "        vertical-align: top;\n",
       "    }\n",
       "\n",
       "    .dataframe thead th {\n",
       "        text-align: right;\n",
       "    }\n",
       "</style>\n",
       "<table border=\"1\" class=\"dataframe\">\n",
       "  <thead>\n",
       "    <tr style=\"text-align: right;\">\n",
       "      <th></th>\n",
       "      <th>2025 Rank</th>\n",
       "      <th>2024 Rank</th>\n",
       "      <th>Institution Name</th>\n",
       "      <th>Location</th>\n",
       "      <th>Location Full</th>\n",
       "      <th>Size</th>\n",
       "      <th>Academic Reputation</th>\n",
       "      <th>Employer Reputation</th>\n",
       "      <th>Faculty Student</th>\n",
       "      <th>Citations per Faculty</th>\n",
       "      <th>International Faculty</th>\n",
       "      <th>International Students</th>\n",
       "      <th>International Research Network</th>\n",
       "      <th>Employment Outcomes</th>\n",
       "      <th>Sustainability</th>\n",
       "      <th>QS Overall Score</th>\n",
       "    </tr>\n",
       "  </thead>\n",
       "  <tbody>\n",
       "    <tr>\n",
       "      <th>0</th>\n",
       "      <td>1</td>\n",
       "      <td>1</td>\n",
       "      <td>Massachusetts Institute of Technology (MIT)</td>\n",
       "      <td>US</td>\n",
       "      <td>United States</td>\n",
       "      <td>M</td>\n",
       "      <td>100.0</td>\n",
       "      <td>100.0</td>\n",
       "      <td>100.0</td>\n",
       "      <td>100.0</td>\n",
       "      <td>99.3</td>\n",
       "      <td>86.8</td>\n",
       "      <td>96.0</td>\n",
       "      <td>100.0</td>\n",
       "      <td>99.0</td>\n",
       "      <td>100</td>\n",
       "    </tr>\n",
       "    <tr>\n",
       "      <th>1</th>\n",
       "      <td>2</td>\n",
       "      <td>6</td>\n",
       "      <td>Imperial College London</td>\n",
       "      <td>UK</td>\n",
       "      <td>United Kingdom</td>\n",
       "      <td>L</td>\n",
       "      <td>98.5</td>\n",
       "      <td>99.5</td>\n",
       "      <td>98.2</td>\n",
       "      <td>93.9</td>\n",
       "      <td>100.0</td>\n",
       "      <td>99.6</td>\n",
       "      <td>97.4</td>\n",
       "      <td>93.4</td>\n",
       "      <td>99.7</td>\n",
       "      <td>98.5</td>\n",
       "    </tr>\n",
       "    <tr>\n",
       "      <th>2</th>\n",
       "      <td>3</td>\n",
       "      <td>3</td>\n",
       "      <td>University of Oxford</td>\n",
       "      <td>UK</td>\n",
       "      <td>United Kingdom</td>\n",
       "      <td>L</td>\n",
       "      <td>100.0</td>\n",
       "      <td>100.0</td>\n",
       "      <td>100.0</td>\n",
       "      <td>84.8</td>\n",
       "      <td>98.1</td>\n",
       "      <td>97.7</td>\n",
       "      <td>100.0</td>\n",
       "      <td>100.0</td>\n",
       "      <td>85.0</td>\n",
       "      <td>96.9</td>\n",
       "    </tr>\n",
       "    <tr>\n",
       "      <th>3</th>\n",
       "      <td>4</td>\n",
       "      <td>4</td>\n",
       "      <td>Harvard University</td>\n",
       "      <td>US</td>\n",
       "      <td>United States</td>\n",
       "      <td>L</td>\n",
       "      <td>100.0</td>\n",
       "      <td>100.0</td>\n",
       "      <td>96.3</td>\n",
       "      <td>100.0</td>\n",
       "      <td>74.1</td>\n",
       "      <td>69.0</td>\n",
       "      <td>99.6</td>\n",
       "      <td>100.0</td>\n",
       "      <td>84.4</td>\n",
       "      <td>96.8</td>\n",
       "    </tr>\n",
       "    <tr>\n",
       "      <th>4</th>\n",
       "      <td>5</td>\n",
       "      <td>2</td>\n",
       "      <td>University of Cambridge</td>\n",
       "      <td>UK</td>\n",
       "      <td>United Kingdom</td>\n",
       "      <td>L</td>\n",
       "      <td>100.0</td>\n",
       "      <td>100.0</td>\n",
       "      <td>100.0</td>\n",
       "      <td>84.6</td>\n",
       "      <td>100.0</td>\n",
       "      <td>94.8</td>\n",
       "      <td>99.3</td>\n",
       "      <td>100.0</td>\n",
       "      <td>84.8</td>\n",
       "      <td>96.7</td>\n",
       "    </tr>\n",
       "  </tbody>\n",
       "</table>\n",
       "</div>"
      ],
      "text/plain": [
       "  2025 Rank 2024 Rank                              Institution Name Location  \\\n",
       "0         1         1  Massachusetts Institute of Technology (MIT)        US   \n",
       "1         2         6                       Imperial College London       UK   \n",
       "2         3         3                          University of Oxford       UK   \n",
       "3         4         4                            Harvard University       US   \n",
       "4         5         2                       University of Cambridge       UK   \n",
       "\n",
       "    Location Full Size  Academic Reputation  Employer Reputation  \\\n",
       "0   United States    M                100.0                100.0   \n",
       "1  United Kingdom    L                 98.5                 99.5   \n",
       "2  United Kingdom    L                100.0                100.0   \n",
       "3   United States    L                100.0                100.0   \n",
       "4  United Kingdom    L                100.0                100.0   \n",
       "\n",
       "   Faculty Student  Citations per Faculty  International Faculty  \\\n",
       "0            100.0                  100.0                   99.3   \n",
       "1             98.2                   93.9                  100.0   \n",
       "2            100.0                   84.8                   98.1   \n",
       "3             96.3                  100.0                   74.1   \n",
       "4            100.0                   84.6                  100.0   \n",
       "\n",
       "   International Students  International Research Network  \\\n",
       "0                    86.8                            96.0   \n",
       "1                    99.6                            97.4   \n",
       "2                    97.7                           100.0   \n",
       "3                    69.0                            99.6   \n",
       "4                    94.8                            99.3   \n",
       "\n",
       "   Employment Outcomes  Sustainability QS Overall Score  \n",
       "0                100.0            99.0              100  \n",
       "1                 93.4            99.7             98.5  \n",
       "2                100.0            85.0             96.9  \n",
       "3                100.0            84.4             96.8  \n",
       "4                100.0            84.8             96.7  "
      ]
     },
     "execution_count": 2,
     "metadata": {},
     "output_type": "execute_result"
    }
   ],
   "source": [
    "world_rankings = pd.read_csv('/kaggle/input/worlds-best-universities-qs-rankings-2025/qs-world-rankings-2025.csv')\n",
    "world_rankings.head()"
   ]
  },
  {
   "cell_type": "markdown",
   "id": "ac952385",
   "metadata": {
    "id": "hoUjq1tPzz7P",
    "papermill": {
     "duration": 0.012084,
     "end_time": "2024-12-02T20:24:41.620809",
     "exception": false,
     "start_time": "2024-12-02T20:24:41.608725",
     "status": "completed"
    },
    "tags": []
   },
   "source": [
    "#### Dataset 2\n",
    "\n",
    "Type: API\n",
    "\n",
    "Method: The data was gathered using the \"API\" method from the College Scorecard.\n",
    "\n",
    "Source: https://api.data.gov/ed/collegescorecard/v1/schools\n",
    "\n",
    "Variables that will be used:\n",
    "\n",
    "* Variable 1 Institution Name\n",
    "* Variable 2 Out-Of-State Tuition\n",
    "* Variable 3 In-State Tuition"
   ]
  },
  {
   "cell_type": "code",
   "execution_count": 3,
   "id": "5f51016b",
   "metadata": {
    "execution": {
     "iopub.execute_input": "2024-12-02T20:24:41.647419Z",
     "iopub.status.busy": "2024-12-02T20:24:41.647008Z",
     "iopub.status.idle": "2024-12-02T20:24:41.651741Z",
     "shell.execute_reply": "2024-12-02T20:24:41.650637Z"
    },
    "id": "6zT0QxRyYmm7",
    "papermill": {
     "duration": 0.020547,
     "end_time": "2024-12-02T20:24:41.653882",
     "exception": false,
     "start_time": "2024-12-02T20:24:41.633335",
     "status": "completed"
    },
    "tags": []
   },
   "outputs": [],
   "source": [
    "api_key = \"Etkbj9xHbH4F9HCntRvrplFS7sSGvyVlXQG11iym\"\n",
    "base_url = \"https://api.data.gov/ed/collegescorecard/v1/schools\""
   ]
  },
  {
   "cell_type": "code",
   "execution_count": 4,
   "id": "2980c383",
   "metadata": {
    "execution": {
     "iopub.execute_input": "2024-12-02T20:24:41.679876Z",
     "iopub.status.busy": "2024-12-02T20:24:41.679482Z",
     "iopub.status.idle": "2024-12-02T20:24:41.684798Z",
     "shell.execute_reply": "2024-12-02T20:24:41.683623Z"
    },
    "papermill": {
     "duration": 0.021017,
     "end_time": "2024-12-02T20:24:41.687104",
     "exception": false,
     "start_time": "2024-12-02T20:24:41.666087",
     "status": "completed"
    },
    "tags": []
   },
   "outputs": [],
   "source": [
    "#specify parameters\n",
    "params = {\n",
    "    \"api_key\": api_key,\n",
    "    \"fields\": \"id,school.name,school.state,latest.cost.tuition.in_state,latest.cost.tuition.out_of_state,latest.student.size\",  # Fields you want to extract\n",
    "    \"per_page\": 100,  \n",
    "    \"page\": 0  \n",
    "}"
   ]
  },
  {
   "cell_type": "code",
   "execution_count": 5,
   "id": "0190c8da",
   "metadata": {
    "execution": {
     "iopub.execute_input": "2024-12-02T20:24:41.713116Z",
     "iopub.status.busy": "2024-12-02T20:24:41.712731Z",
     "iopub.status.idle": "2024-12-02T20:25:56.382802Z",
     "shell.execute_reply": "2024-12-02T20:25:56.381139Z"
    },
    "papermill": {
     "duration": 74.686843,
     "end_time": "2024-12-02T20:25:56.386129",
     "exception": false,
     "start_time": "2024-12-02T20:24:41.699286",
     "status": "completed"
    },
    "tags": []
   },
   "outputs": [],
   "source": [
    "#collect data\n",
    "data_list = []  \n",
    "\n",
    "while True:\n",
    "    params[\"page\"] += 1  \n",
    "    response = requests.get(base_url, params=params)\n",
    "    \n",
    "    #check for errors\n",
    "    if response.status_code != 200:\n",
    "        break\n",
    "    \n",
    "    #parse JSON response\n",
    "    data = response.json()\n",
    "    \n",
    "    #exit loop if no results\n",
    "    if not data[\"results\"]:\n",
    "        break\n",
    "    \n",
    "    #append results list\n",
    "    data_list.extend(data[\"results\"])"
   ]
  },
  {
   "cell_type": "code",
   "execution_count": 6,
   "id": "1bee3c45",
   "metadata": {
    "execution": {
     "iopub.execute_input": "2024-12-02T20:25:56.412903Z",
     "iopub.status.busy": "2024-12-02T20:25:56.412505Z",
     "iopub.status.idle": "2024-12-02T20:25:56.439612Z",
     "shell.execute_reply": "2024-12-02T20:25:56.438422Z"
    },
    "papermill": {
     "duration": 0.043379,
     "end_time": "2024-12-02T20:25:56.442356",
     "exception": false,
     "start_time": "2024-12-02T20:25:56.398977",
     "status": "completed"
    },
    "tags": []
   },
   "outputs": [
    {
     "data": {
      "text/html": [
       "<div>\n",
       "<style scoped>\n",
       "    .dataframe tbody tr th:only-of-type {\n",
       "        vertical-align: middle;\n",
       "    }\n",
       "\n",
       "    .dataframe tbody tr th {\n",
       "        vertical-align: top;\n",
       "    }\n",
       "\n",
       "    .dataframe thead th {\n",
       "        text-align: right;\n",
       "    }\n",
       "</style>\n",
       "<table border=\"1\" class=\"dataframe\">\n",
       "  <thead>\n",
       "    <tr style=\"text-align: right;\">\n",
       "      <th></th>\n",
       "      <th>latest.cost.tuition.in_state</th>\n",
       "      <th>latest.cost.tuition.out_of_state</th>\n",
       "      <th>latest.student.size</th>\n",
       "      <th>school.name</th>\n",
       "      <th>school.state</th>\n",
       "      <th>id</th>\n",
       "    </tr>\n",
       "  </thead>\n",
       "  <tbody>\n",
       "    <tr>\n",
       "      <th>0</th>\n",
       "      <td>31650</td>\n",
       "      <td>31650</td>\n",
       "      <td>1028</td>\n",
       "      <td>Arizona Christian University</td>\n",
       "      <td>AZ</td>\n",
       "      <td>105899</td>\n",
       "    </tr>\n",
       "    <tr>\n",
       "      <th>1</th>\n",
       "      <td>0</td>\n",
       "      <td>0</td>\n",
       "      <td>1972</td>\n",
       "      <td>Universal Technical Institute of Arizona Inc</td>\n",
       "      <td>AZ</td>\n",
       "      <td>106041</td>\n",
       "    </tr>\n",
       "    <tr>\n",
       "      <th>2</th>\n",
       "      <td>2680</td>\n",
       "      <td>9340</td>\n",
       "      <td>3577</td>\n",
       "      <td>Yavapai College</td>\n",
       "      <td>AZ</td>\n",
       "      <td>106148</td>\n",
       "    </tr>\n",
       "    <tr>\n",
       "      <th>3</th>\n",
       "      <td>8366</td>\n",
       "      <td>18957</td>\n",
       "      <td>4802</td>\n",
       "      <td>University of Arkansas at Little Rock</td>\n",
       "      <td>AR</td>\n",
       "      <td>106245</td>\n",
       "    </tr>\n",
       "    <tr>\n",
       "      <th>4</th>\n",
       "      <td>0</td>\n",
       "      <td>0</td>\n",
       "      <td>1287</td>\n",
       "      <td>University of Arkansas for Medical Sciences</td>\n",
       "      <td>AR</td>\n",
       "      <td>106263</td>\n",
       "    </tr>\n",
       "  </tbody>\n",
       "</table>\n",
       "</div>"
      ],
      "text/plain": [
       "   latest.cost.tuition.in_state  latest.cost.tuition.out_of_state  \\\n",
       "0                         31650                             31650   \n",
       "1                             0                                 0   \n",
       "2                          2680                              9340   \n",
       "3                          8366                             18957   \n",
       "4                             0                                 0   \n",
       "\n",
       "   latest.student.size                                   school.name  \\\n",
       "0                 1028                  Arizona Christian University   \n",
       "1                 1972  Universal Technical Institute of Arizona Inc   \n",
       "2                 3577                               Yavapai College   \n",
       "3                 4802         University of Arkansas at Little Rock   \n",
       "4                 1287   University of Arkansas for Medical Sciences   \n",
       "\n",
       "  school.state      id  \n",
       "0           AZ  105899  \n",
       "1           AZ  106041  \n",
       "2           AZ  106148  \n",
       "3           AR  106245  \n",
       "4           AR  106263  "
      ]
     },
     "execution_count": 6,
     "metadata": {},
     "output_type": "execute_result"
    }
   ],
   "source": [
    "#make data_list a dataframe\n",
    "scorecard = pd.DataFrame(data_list)\n",
    "scorecard.head()"
   ]
  },
  {
   "cell_type": "markdown",
   "id": "90e230b3",
   "metadata": {
    "id": "QwSWIVmotLgV",
    "papermill": {
     "duration": 0.012053,
     "end_time": "2024-12-02T20:25:56.466936",
     "exception": false,
     "start_time": "2024-12-02T20:25:56.454883",
     "status": "completed"
    },
    "tags": []
   },
   "source": [
    "## Assess data"
   ]
  },
  {
   "cell_type": "markdown",
   "id": "ce412df2",
   "metadata": {
    "id": "adaK2iPNzVu4",
    "papermill": {
     "duration": 0.012114,
     "end_time": "2024-12-02T20:25:56.491456",
     "exception": false,
     "start_time": "2024-12-02T20:25:56.479342",
     "status": "completed"
    },
    "tags": []
   },
   "source": [
    "### Quality Issue 1:"
   ]
  },
  {
   "cell_type": "code",
   "execution_count": 7,
   "id": "37bda910",
   "metadata": {
    "execution": {
     "iopub.execute_input": "2024-12-02T20:25:56.520941Z",
     "iopub.status.busy": "2024-12-02T20:25:56.520545Z",
     "iopub.status.idle": "2024-12-02T20:25:56.532297Z",
     "shell.execute_reply": "2024-12-02T20:25:56.531136Z"
    },
    "id": "SpW59kh-zl8d",
    "papermill": {
     "duration": 0.027766,
     "end_time": "2024-12-02T20:25:56.534529",
     "exception": false,
     "start_time": "2024-12-02T20:25:56.506763",
     "status": "completed"
    },
    "tags": []
   },
   "outputs": [
    {
     "data": {
      "text/html": [
       "<div>\n",
       "<style scoped>\n",
       "    .dataframe tbody tr th:only-of-type {\n",
       "        vertical-align: middle;\n",
       "    }\n",
       "\n",
       "    .dataframe tbody tr th {\n",
       "        vertical-align: top;\n",
       "    }\n",
       "\n",
       "    .dataframe thead th {\n",
       "        text-align: right;\n",
       "    }\n",
       "</style>\n",
       "<table border=\"1\" class=\"dataframe\">\n",
       "  <thead>\n",
       "    <tr style=\"text-align: right;\">\n",
       "      <th></th>\n",
       "      <th>latest.cost.tuition.in_state</th>\n",
       "      <th>latest.cost.tuition.out_of_state</th>\n",
       "      <th>latest.student.size</th>\n",
       "      <th>school.name</th>\n",
       "      <th>school.state</th>\n",
       "      <th>id</th>\n",
       "    </tr>\n",
       "  </thead>\n",
       "  <tbody>\n",
       "    <tr>\n",
       "      <th>0</th>\n",
       "      <td>31650</td>\n",
       "      <td>31650</td>\n",
       "      <td>1028</td>\n",
       "      <td>Arizona Christian University</td>\n",
       "      <td>AZ</td>\n",
       "      <td>105899</td>\n",
       "    </tr>\n",
       "    <tr>\n",
       "      <th>1</th>\n",
       "      <td>0</td>\n",
       "      <td>0</td>\n",
       "      <td>1972</td>\n",
       "      <td>Universal Technical Institute of Arizona Inc</td>\n",
       "      <td>AZ</td>\n",
       "      <td>106041</td>\n",
       "    </tr>\n",
       "    <tr>\n",
       "      <th>2</th>\n",
       "      <td>2680</td>\n",
       "      <td>9340</td>\n",
       "      <td>3577</td>\n",
       "      <td>Yavapai College</td>\n",
       "      <td>AZ</td>\n",
       "      <td>106148</td>\n",
       "    </tr>\n",
       "    <tr>\n",
       "      <th>3</th>\n",
       "      <td>8366</td>\n",
       "      <td>18957</td>\n",
       "      <td>4802</td>\n",
       "      <td>University of Arkansas at Little Rock</td>\n",
       "      <td>AR</td>\n",
       "      <td>106245</td>\n",
       "    </tr>\n",
       "    <tr>\n",
       "      <th>4</th>\n",
       "      <td>0</td>\n",
       "      <td>0</td>\n",
       "      <td>1287</td>\n",
       "      <td>University of Arkansas for Medical Sciences</td>\n",
       "      <td>AR</td>\n",
       "      <td>106263</td>\n",
       "    </tr>\n",
       "  </tbody>\n",
       "</table>\n",
       "</div>"
      ],
      "text/plain": [
       "   latest.cost.tuition.in_state  latest.cost.tuition.out_of_state  \\\n",
       "0                         31650                             31650   \n",
       "1                             0                                 0   \n",
       "2                          2680                              9340   \n",
       "3                          8366                             18957   \n",
       "4                             0                                 0   \n",
       "\n",
       "   latest.student.size                                   school.name  \\\n",
       "0                 1028                  Arizona Christian University   \n",
       "1                 1972  Universal Technical Institute of Arizona Inc   \n",
       "2                 3577                               Yavapai College   \n",
       "3                 4802         University of Arkansas at Little Rock   \n",
       "4                 1287   University of Arkansas for Medical Sciences   \n",
       "\n",
       "  school.state      id  \n",
       "0           AZ  105899  \n",
       "1           AZ  106041  \n",
       "2           AZ  106148  \n",
       "3           AR  106245  \n",
       "4           AR  106263  "
      ]
     },
     "execution_count": 7,
     "metadata": {},
     "output_type": "execute_result"
    }
   ],
   "source": [
    "scorecard.head()"
   ]
  },
  {
   "cell_type": "code",
   "execution_count": 8,
   "id": "17f706db",
   "metadata": {
    "execution": {
     "iopub.execute_input": "2024-12-02T20:25:56.561807Z",
     "iopub.status.busy": "2024-12-02T20:25:56.561406Z",
     "iopub.status.idle": "2024-12-02T20:25:56.571126Z",
     "shell.execute_reply": "2024-12-02T20:25:56.569856Z"
    },
    "id": "-qfcocStzsKg",
    "papermill": {
     "duration": 0.026089,
     "end_time": "2024-12-02T20:25:56.573543",
     "exception": false,
     "start_time": "2024-12-02T20:25:56.547454",
     "status": "completed"
    },
    "tags": []
   },
   "outputs": [
    {
     "data": {
      "text/plain": [
       "2692"
      ]
     },
     "execution_count": 8,
     "metadata": {},
     "output_type": "execute_result"
    }
   ],
   "source": [
    "#find number of 0 values in in-state tuition column\n",
    "(scorecard['latest.cost.tuition.in_state'] == 0).sum()"
   ]
  },
  {
   "cell_type": "code",
   "execution_count": 9,
   "id": "08e07533",
   "metadata": {
    "execution": {
     "iopub.execute_input": "2024-12-02T20:25:56.600297Z",
     "iopub.status.busy": "2024-12-02T20:25:56.599915Z",
     "iopub.status.idle": "2024-12-02T20:25:56.607641Z",
     "shell.execute_reply": "2024-12-02T20:25:56.606351Z"
    },
    "papermill": {
     "duration": 0.023792,
     "end_time": "2024-12-02T20:25:56.609913",
     "exception": false,
     "start_time": "2024-12-02T20:25:56.586121",
     "status": "completed"
    },
    "tags": []
   },
   "outputs": [
    {
     "data": {
      "text/plain": [
       "2692"
      ]
     },
     "execution_count": 9,
     "metadata": {},
     "output_type": "execute_result"
    }
   ],
   "source": [
    "#find number of 0 values in out-of-state tuition column\n",
    "(scorecard['latest.cost.tuition.out_of_state'] == 0).sum()"
   ]
  },
  {
   "cell_type": "markdown",
   "id": "f9bbe2bb",
   "metadata": {
    "papermill": {
     "duration": 0.012566,
     "end_time": "2024-12-02T20:25:56.635829",
     "exception": false,
     "start_time": "2024-12-02T20:25:56.623263",
     "status": "completed"
    },
    "tags": []
   },
   "source": [
    "Issue and justification: There are values of zero in the tuition columns which will need to be removed to not provide an inacurate analysis."
   ]
  },
  {
   "cell_type": "markdown",
   "id": "120373bb",
   "metadata": {
    "id": "8Be77N4I1AmE",
    "papermill": {
     "duration": 0.013451,
     "end_time": "2024-12-02T20:25:56.662322",
     "exception": false,
     "start_time": "2024-12-02T20:25:56.648871",
     "status": "completed"
    },
    "tags": []
   },
   "source": [
    "### Quality Issue 2:"
   ]
  },
  {
   "cell_type": "code",
   "execution_count": 10,
   "id": "9701efdf",
   "metadata": {
    "execution": {
     "iopub.execute_input": "2024-12-02T20:25:56.690602Z",
     "iopub.status.busy": "2024-12-02T20:25:56.690171Z",
     "iopub.status.idle": "2024-12-02T20:25:56.722233Z",
     "shell.execute_reply": "2024-12-02T20:25:56.721107Z"
    },
    "id": "bnviRCUI-bb7",
    "papermill": {
     "duration": 0.048826,
     "end_time": "2024-12-02T20:25:56.724611",
     "exception": false,
     "start_time": "2024-12-02T20:25:56.675785",
     "status": "completed"
    },
    "tags": []
   },
   "outputs": [
    {
     "data": {
      "text/html": [
       "<div>\n",
       "<style scoped>\n",
       "    .dataframe tbody tr th:only-of-type {\n",
       "        vertical-align: middle;\n",
       "    }\n",
       "\n",
       "    .dataframe tbody tr th {\n",
       "        vertical-align: top;\n",
       "    }\n",
       "\n",
       "    .dataframe thead th {\n",
       "        text-align: right;\n",
       "    }\n",
       "</style>\n",
       "<table border=\"1\" class=\"dataframe\">\n",
       "  <thead>\n",
       "    <tr style=\"text-align: right;\">\n",
       "      <th></th>\n",
       "      <th>2025 Rank</th>\n",
       "      <th>2024 Rank</th>\n",
       "      <th>Institution Name</th>\n",
       "      <th>Location</th>\n",
       "      <th>Location Full</th>\n",
       "      <th>Size</th>\n",
       "      <th>Academic Reputation</th>\n",
       "      <th>Employer Reputation</th>\n",
       "      <th>Faculty Student</th>\n",
       "      <th>Citations per Faculty</th>\n",
       "      <th>International Faculty</th>\n",
       "      <th>International Students</th>\n",
       "      <th>International Research Network</th>\n",
       "      <th>Employment Outcomes</th>\n",
       "      <th>Sustainability</th>\n",
       "      <th>QS Overall Score</th>\n",
       "    </tr>\n",
       "  </thead>\n",
       "  <tbody>\n",
       "    <tr>\n",
       "      <th>382</th>\n",
       "      <td>383</td>\n",
       "      <td>427</td>\n",
       "      <td>Anna University</td>\n",
       "      <td>IN</td>\n",
       "      <td>India</td>\n",
       "      <td>L</td>\n",
       "      <td>10.0</td>\n",
       "      <td>12.0</td>\n",
       "      <td>5.5</td>\n",
       "      <td>100.0</td>\n",
       "      <td>NaN</td>\n",
       "      <td>1.3</td>\n",
       "      <td>89.2</td>\n",
       "      <td>5.9</td>\n",
       "      <td>24.7</td>\n",
       "      <td>30.6</td>\n",
       "    </tr>\n",
       "    <tr>\n",
       "      <th>439</th>\n",
       "      <td>440</td>\n",
       "      <td>429</td>\n",
       "      <td>Singapore University of Technology and Design</td>\n",
       "      <td>SG</td>\n",
       "      <td>Singapore</td>\n",
       "      <td>S</td>\n",
       "      <td>7.4</td>\n",
       "      <td>5.3</td>\n",
       "      <td>99.0</td>\n",
       "      <td>66.0</td>\n",
       "      <td>NaN</td>\n",
       "      <td>NaN</td>\n",
       "      <td>31.2</td>\n",
       "      <td>4.6</td>\n",
       "      <td>1.1</td>\n",
       "      <td>27</td>\n",
       "    </tr>\n",
       "    <tr>\n",
       "      <th>451</th>\n",
       "      <td>565</td>\n",
       "      <td>600</td>\n",
       "      <td>Nanjing University of Science and Technology</td>\n",
       "      <td>CN</td>\n",
       "      <td>China (Mainland)</td>\n",
       "      <td>L</td>\n",
       "      <td>5.7</td>\n",
       "      <td>2.5</td>\n",
       "      <td>8.9</td>\n",
       "      <td>89.3</td>\n",
       "      <td>NaN</td>\n",
       "      <td>NaN</td>\n",
       "      <td>38.7</td>\n",
       "      <td>3.7</td>\n",
       "      <td>2.3</td>\n",
       "      <td>22</td>\n",
       "    </tr>\n",
       "    <tr>\n",
       "      <th>484</th>\n",
       "      <td>485</td>\n",
       "      <td>NaN</td>\n",
       "      <td>American University of Ras Al Khaimah ( AURAK )</td>\n",
       "      <td>AE</td>\n",
       "      <td>United Arab Emirates</td>\n",
       "      <td>S</td>\n",
       "      <td>4.6</td>\n",
       "      <td>3.3</td>\n",
       "      <td>35.5</td>\n",
       "      <td>46.8</td>\n",
       "      <td>100.0</td>\n",
       "      <td>100.0</td>\n",
       "      <td>15.4</td>\n",
       "      <td>4.1</td>\n",
       "      <td>1.1</td>\n",
       "      <td>24.8</td>\n",
       "    </tr>\n",
       "    <tr>\n",
       "      <th>490</th>\n",
       "      <td>489</td>\n",
       "      <td>NaN</td>\n",
       "      <td>Isfahan University of Technology</td>\n",
       "      <td>IR</td>\n",
       "      <td>Iran, Islamic Republic of</td>\n",
       "      <td>M</td>\n",
       "      <td>4.9</td>\n",
       "      <td>15.7</td>\n",
       "      <td>5.1</td>\n",
       "      <td>92.2</td>\n",
       "      <td>2.3</td>\n",
       "      <td>1.4</td>\n",
       "      <td>43.5</td>\n",
       "      <td>5.6</td>\n",
       "      <td>1.1</td>\n",
       "      <td>24.5</td>\n",
       "    </tr>\n",
       "    <tr>\n",
       "      <th>...</th>\n",
       "      <td>...</td>\n",
       "      <td>...</td>\n",
       "      <td>...</td>\n",
       "      <td>...</td>\n",
       "      <td>...</td>\n",
       "      <td>...</td>\n",
       "      <td>...</td>\n",
       "      <td>...</td>\n",
       "      <td>...</td>\n",
       "      <td>...</td>\n",
       "      <td>...</td>\n",
       "      <td>...</td>\n",
       "      <td>...</td>\n",
       "      <td>...</td>\n",
       "      <td>...</td>\n",
       "      <td>...</td>\n",
       "    </tr>\n",
       "    <tr>\n",
       "      <th>1474</th>\n",
       "      <td>1401+</td>\n",
       "      <td>1201-1400</td>\n",
       "      <td>Universidad Nacional del Comahue</td>\n",
       "      <td>AR</td>\n",
       "      <td>Argentina</td>\n",
       "      <td>XL</td>\n",
       "      <td>5.1</td>\n",
       "      <td>2.4</td>\n",
       "      <td>20.4</td>\n",
       "      <td>1.3</td>\n",
       "      <td>NaN</td>\n",
       "      <td>NaN</td>\n",
       "      <td>13.1</td>\n",
       "      <td>2.1</td>\n",
       "      <td>1.2</td>\n",
       "      <td>-</td>\n",
       "    </tr>\n",
       "    <tr>\n",
       "      <th>1482</th>\n",
       "      <td>1401+</td>\n",
       "      <td>1201-1400</td>\n",
       "      <td>Universidad Veracruzana</td>\n",
       "      <td>MX</td>\n",
       "      <td>Mexico</td>\n",
       "      <td>XL</td>\n",
       "      <td>7.7</td>\n",
       "      <td>2.7</td>\n",
       "      <td>7.3</td>\n",
       "      <td>1.4</td>\n",
       "      <td>NaN</td>\n",
       "      <td>NaN</td>\n",
       "      <td>13.6</td>\n",
       "      <td>1.5</td>\n",
       "      <td>1.1</td>\n",
       "      <td>-</td>\n",
       "    </tr>\n",
       "    <tr>\n",
       "      <th>1483</th>\n",
       "      <td>1401+</td>\n",
       "      <td>1401+</td>\n",
       "      <td>Universidade do Estado de Santa Catarina</td>\n",
       "      <td>BR</td>\n",
       "      <td>Brazil</td>\n",
       "      <td>XL</td>\n",
       "      <td>3.7</td>\n",
       "      <td>1.3</td>\n",
       "      <td>15.4</td>\n",
       "      <td>1.7</td>\n",
       "      <td>NaN</td>\n",
       "      <td>NaN</td>\n",
       "      <td>9.0</td>\n",
       "      <td>2.2</td>\n",
       "      <td>1.0</td>\n",
       "      <td>-</td>\n",
       "    </tr>\n",
       "    <tr>\n",
       "      <th>1488</th>\n",
       "      <td>1401+</td>\n",
       "      <td>1401+</td>\n",
       "      <td>Universidade Federal do Estado do Rio de Janei...</td>\n",
       "      <td>BR</td>\n",
       "      <td>Brazil</td>\n",
       "      <td>L</td>\n",
       "      <td>2.9</td>\n",
       "      <td>2.0</td>\n",
       "      <td>8.1</td>\n",
       "      <td>2.1</td>\n",
       "      <td>NaN</td>\n",
       "      <td>NaN</td>\n",
       "      <td>8.6</td>\n",
       "      <td>1.5</td>\n",
       "      <td>1.0</td>\n",
       "      <td>-</td>\n",
       "    </tr>\n",
       "    <tr>\n",
       "      <th>1495</th>\n",
       "      <td>1401+</td>\n",
       "      <td>1401+</td>\n",
       "      <td>University of Craiova</td>\n",
       "      <td>RO</td>\n",
       "      <td>Romania</td>\n",
       "      <td>L</td>\n",
       "      <td>4.5</td>\n",
       "      <td>2.2</td>\n",
       "      <td>3.2</td>\n",
       "      <td>2.1</td>\n",
       "      <td>NaN</td>\n",
       "      <td>NaN</td>\n",
       "      <td>21.8</td>\n",
       "      <td>13.4</td>\n",
       "      <td>1.0</td>\n",
       "      <td>-</td>\n",
       "    </tr>\n",
       "  </tbody>\n",
       "</table>\n",
       "<p>137 rows × 16 columns</p>\n",
       "</div>"
      ],
      "text/plain": [
       "     2025 Rank  2024 Rank                                   Institution Name  \\\n",
       "382        383        427                                    Anna University   \n",
       "439        440        429      Singapore University of Technology and Design   \n",
       "451        565        600       Nanjing University of Science and Technology   \n",
       "484        485        NaN    American University of Ras Al Khaimah ( AURAK )   \n",
       "490        489        NaN                   Isfahan University of Technology   \n",
       "...        ...        ...                                                ...   \n",
       "1474     1401+  1201-1400                   Universidad Nacional del Comahue   \n",
       "1482     1401+  1201-1400                            Universidad Veracruzana   \n",
       "1483     1401+      1401+           Universidade do Estado de Santa Catarina   \n",
       "1488     1401+      1401+  Universidade Federal do Estado do Rio de Janei...   \n",
       "1495     1401+      1401+                              University of Craiova   \n",
       "\n",
       "     Location              Location Full Size  Academic Reputation  \\\n",
       "382        IN                      India    L                 10.0   \n",
       "439        SG                  Singapore    S                  7.4   \n",
       "451        CN           China (Mainland)    L                  5.7   \n",
       "484        AE       United Arab Emirates    S                  4.6   \n",
       "490        IR  Iran, Islamic Republic of    M                  4.9   \n",
       "...       ...                        ...  ...                  ...   \n",
       "1474       AR                  Argentina   XL                  5.1   \n",
       "1482       MX                     Mexico   XL                  7.7   \n",
       "1483       BR                     Brazil   XL                  3.7   \n",
       "1488       BR                     Brazil    L                  2.9   \n",
       "1495       RO                    Romania    L                  4.5   \n",
       "\n",
       "      Employer Reputation  Faculty Student  Citations per Faculty  \\\n",
       "382                  12.0              5.5                  100.0   \n",
       "439                   5.3             99.0                   66.0   \n",
       "451                   2.5              8.9                   89.3   \n",
       "484                   3.3             35.5                   46.8   \n",
       "490                  15.7              5.1                   92.2   \n",
       "...                   ...              ...                    ...   \n",
       "1474                  2.4             20.4                    1.3   \n",
       "1482                  2.7              7.3                    1.4   \n",
       "1483                  1.3             15.4                    1.7   \n",
       "1488                  2.0              8.1                    2.1   \n",
       "1495                  2.2              3.2                    2.1   \n",
       "\n",
       "      International Faculty  International Students  \\\n",
       "382                     NaN                     1.3   \n",
       "439                     NaN                     NaN   \n",
       "451                     NaN                     NaN   \n",
       "484                   100.0                   100.0   \n",
       "490                     2.3                     1.4   \n",
       "...                     ...                     ...   \n",
       "1474                    NaN                     NaN   \n",
       "1482                    NaN                     NaN   \n",
       "1483                    NaN                     NaN   \n",
       "1488                    NaN                     NaN   \n",
       "1495                    NaN                     NaN   \n",
       "\n",
       "      International Research Network  Employment Outcomes  Sustainability  \\\n",
       "382                             89.2                  5.9            24.7   \n",
       "439                             31.2                  4.6             1.1   \n",
       "451                             38.7                  3.7             2.3   \n",
       "484                             15.4                  4.1             1.1   \n",
       "490                             43.5                  5.6             1.1   \n",
       "...                              ...                  ...             ...   \n",
       "1474                            13.1                  2.1             1.2   \n",
       "1482                            13.6                  1.5             1.1   \n",
       "1483                             9.0                  2.2             1.0   \n",
       "1488                             8.6                  1.5             1.0   \n",
       "1495                            21.8                 13.4             1.0   \n",
       "\n",
       "     QS Overall Score  \n",
       "382              30.6  \n",
       "439                27  \n",
       "451                22  \n",
       "484              24.8  \n",
       "490              24.5  \n",
       "...               ...  \n",
       "1474                -  \n",
       "1482                -  \n",
       "1483                -  \n",
       "1488                -  \n",
       "1495                -  \n",
       "\n",
       "[137 rows x 16 columns]"
      ]
     },
     "execution_count": 10,
     "metadata": {},
     "output_type": "execute_result"
    }
   ],
   "source": [
    "#find null values in world rankings\n",
    "world_rankings[world_rankings.isnull().any(axis=1)]"
   ]
  },
  {
   "cell_type": "markdown",
   "id": "0f97bfd4",
   "metadata": {
    "papermill": {
     "duration": 0.013331,
     "end_time": "2024-12-02T20:25:56.751271",
     "exception": false,
     "start_time": "2024-12-02T20:25:56.737940",
     "status": "completed"
    },
    "tags": []
   },
   "source": [
    "Issue and justification: There are null values in the ranking section for the 2024 year which will have to be removed to provide an accurate analysis."
   ]
  },
  {
   "cell_type": "markdown",
   "id": "139b9bcd",
   "metadata": {
    "papermill": {
     "duration": 0.012756,
     "end_time": "2024-12-02T20:25:56.777372",
     "exception": false,
     "start_time": "2024-12-02T20:25:56.764616",
     "status": "completed"
    },
    "tags": []
   },
   "source": [
    "### Quality Issue 3:"
   ]
  },
  {
   "cell_type": "code",
   "execution_count": 11,
   "id": "101f0b5b",
   "metadata": {
    "execution": {
     "iopub.execute_input": "2024-12-02T20:25:56.805564Z",
     "iopub.status.busy": "2024-12-02T20:25:56.805114Z",
     "iopub.status.idle": "2024-12-02T20:25:56.824974Z",
     "shell.execute_reply": "2024-12-02T20:25:56.823829Z"
    },
    "papermill": {
     "duration": 0.036199,
     "end_time": "2024-12-02T20:25:56.827051",
     "exception": false,
     "start_time": "2024-12-02T20:25:56.790852",
     "status": "completed"
    },
    "tags": []
   },
   "outputs": [
    {
     "data": {
      "text/html": [
       "<div>\n",
       "<style scoped>\n",
       "    .dataframe tbody tr th:only-of-type {\n",
       "        vertical-align: middle;\n",
       "    }\n",
       "\n",
       "    .dataframe tbody tr th {\n",
       "        vertical-align: top;\n",
       "    }\n",
       "\n",
       "    .dataframe thead th {\n",
       "        text-align: right;\n",
       "    }\n",
       "</style>\n",
       "<table border=\"1\" class=\"dataframe\">\n",
       "  <thead>\n",
       "    <tr style=\"text-align: right;\">\n",
       "      <th></th>\n",
       "      <th>2025 Rank</th>\n",
       "      <th>2024 Rank</th>\n",
       "      <th>Institution Name</th>\n",
       "      <th>Location</th>\n",
       "      <th>Location Full</th>\n",
       "      <th>Size</th>\n",
       "      <th>Academic Reputation</th>\n",
       "      <th>Employer Reputation</th>\n",
       "      <th>Faculty Student</th>\n",
       "      <th>Citations per Faculty</th>\n",
       "      <th>International Faculty</th>\n",
       "      <th>International Students</th>\n",
       "      <th>International Research Network</th>\n",
       "      <th>Employment Outcomes</th>\n",
       "      <th>Sustainability</th>\n",
       "      <th>QS Overall Score</th>\n",
       "    </tr>\n",
       "  </thead>\n",
       "  <tbody>\n",
       "    <tr>\n",
       "      <th>1498</th>\n",
       "      <td>1401+</td>\n",
       "      <td>1201-1400</td>\n",
       "      <td>University of Montana Missoula</td>\n",
       "      <td>US</td>\n",
       "      <td>United States</td>\n",
       "      <td>M</td>\n",
       "      <td>3.0</td>\n",
       "      <td>2.2</td>\n",
       "      <td>10.6</td>\n",
       "      <td>6.1</td>\n",
       "      <td>1.3</td>\n",
       "      <td>1.9</td>\n",
       "      <td>6.5</td>\n",
       "      <td>3.1</td>\n",
       "      <td>1.0</td>\n",
       "      <td>-</td>\n",
       "    </tr>\n",
       "    <tr>\n",
       "      <th>1499</th>\n",
       "      <td>1401+</td>\n",
       "      <td>1401+</td>\n",
       "      <td>University of Oradea</td>\n",
       "      <td>RO</td>\n",
       "      <td>Romania</td>\n",
       "      <td>L</td>\n",
       "      <td>5.6</td>\n",
       "      <td>2.2</td>\n",
       "      <td>4.0</td>\n",
       "      <td>1.9</td>\n",
       "      <td>1.5</td>\n",
       "      <td>5.2</td>\n",
       "      <td>34.5</td>\n",
       "      <td>6.2</td>\n",
       "      <td>2.3</td>\n",
       "      <td>-</td>\n",
       "    </tr>\n",
       "    <tr>\n",
       "      <th>1500</th>\n",
       "      <td>1401+</td>\n",
       "      <td>1201-1400</td>\n",
       "      <td>University of San Carlos</td>\n",
       "      <td>PH</td>\n",
       "      <td>Philippines</td>\n",
       "      <td>M</td>\n",
       "      <td>7.2</td>\n",
       "      <td>9.4</td>\n",
       "      <td>3.3</td>\n",
       "      <td>1.8</td>\n",
       "      <td>2.1</td>\n",
       "      <td>2.1</td>\n",
       "      <td>6.4</td>\n",
       "      <td>9.6</td>\n",
       "      <td>1.0</td>\n",
       "      <td>-</td>\n",
       "    </tr>\n",
       "    <tr>\n",
       "      <th>1501</th>\n",
       "      <td>1401+</td>\n",
       "      <td>1401+</td>\n",
       "      <td>University Politehnica of Timisoara, UPT</td>\n",
       "      <td>RO</td>\n",
       "      <td>Romania</td>\n",
       "      <td>L</td>\n",
       "      <td>4.1</td>\n",
       "      <td>4.2</td>\n",
       "      <td>7.2</td>\n",
       "      <td>3.9</td>\n",
       "      <td>1.4</td>\n",
       "      <td>2.5</td>\n",
       "      <td>18.6</td>\n",
       "      <td>3.9</td>\n",
       "      <td>1.1</td>\n",
       "      <td>-</td>\n",
       "    </tr>\n",
       "    <tr>\n",
       "      <th>1502</th>\n",
       "      <td>1401+</td>\n",
       "      <td>1401+</td>\n",
       "      <td>Western Washington University</td>\n",
       "      <td>US</td>\n",
       "      <td>United States</td>\n",
       "      <td>L</td>\n",
       "      <td>2.6</td>\n",
       "      <td>2.6</td>\n",
       "      <td>7.3</td>\n",
       "      <td>3.5</td>\n",
       "      <td>9.7</td>\n",
       "      <td>1.6</td>\n",
       "      <td>12.4</td>\n",
       "      <td>1.5</td>\n",
       "      <td>1.1</td>\n",
       "      <td>-</td>\n",
       "    </tr>\n",
       "  </tbody>\n",
       "</table>\n",
       "</div>"
      ],
      "text/plain": [
       "     2025 Rank  2024 Rank                          Institution Name Location  \\\n",
       "1498     1401+  1201-1400           University of Montana Missoula        US   \n",
       "1499     1401+      1401+                      University of Oradea       RO   \n",
       "1500     1401+  1201-1400                  University of San Carlos       PH   \n",
       "1501     1401+      1401+  University Politehnica of Timisoara, UPT       RO   \n",
       "1502     1401+      1401+             Western Washington University       US   \n",
       "\n",
       "      Location Full Size  Academic Reputation  Employer Reputation  \\\n",
       "1498  United States    M                  3.0                  2.2   \n",
       "1499        Romania    L                  5.6                  2.2   \n",
       "1500    Philippines    M                  7.2                  9.4   \n",
       "1501        Romania    L                  4.1                  4.2   \n",
       "1502  United States    L                  2.6                  2.6   \n",
       "\n",
       "      Faculty Student  Citations per Faculty  International Faculty  \\\n",
       "1498             10.6                    6.1                    1.3   \n",
       "1499              4.0                    1.9                    1.5   \n",
       "1500              3.3                    1.8                    2.1   \n",
       "1501              7.2                    3.9                    1.4   \n",
       "1502              7.3                    3.5                    9.7   \n",
       "\n",
       "      International Students  International Research Network  \\\n",
       "1498                     1.9                             6.5   \n",
       "1499                     5.2                            34.5   \n",
       "1500                     2.1                             6.4   \n",
       "1501                     2.5                            18.6   \n",
       "1502                     1.6                            12.4   \n",
       "\n",
       "      Employment Outcomes  Sustainability QS Overall Score  \n",
       "1498                  3.1             1.0                -  \n",
       "1499                  6.2             2.3                -  \n",
       "1500                  9.6             1.0                -  \n",
       "1501                  3.9             1.1                -  \n",
       "1502                  1.5             1.1                -  "
      ]
     },
     "execution_count": 11,
     "metadata": {},
     "output_type": "execute_result"
    }
   ],
   "source": [
    "world_rankings.tail()"
   ]
  },
  {
   "cell_type": "markdown",
   "id": "2cae66f4",
   "metadata": {
    "papermill": {
     "duration": 0.01333,
     "end_time": "2024-12-02T20:25:56.854008",
     "exception": false,
     "start_time": "2024-12-02T20:25:56.840678",
     "status": "completed"
    },
    "tags": []
   },
   "source": [
    "Remove anything in 2025 rank column with 1400+ and anything from 2024 column with 1201-1400 and 1400+ for datatype consistency"
   ]
  },
  {
   "cell_type": "markdown",
   "id": "5011d955",
   "metadata": {
    "id": "lXhGiYyiwwKN",
    "papermill": {
     "duration": 0.01312,
     "end_time": "2024-12-02T20:25:56.880529",
     "exception": false,
     "start_time": "2024-12-02T20:25:56.867409",
     "status": "completed"
    },
    "tags": []
   },
   "source": [
    "### Tidiness Issue 1:"
   ]
  },
  {
   "cell_type": "code",
   "execution_count": 12,
   "id": "ccb8b62a",
   "metadata": {
    "execution": {
     "iopub.execute_input": "2024-12-02T20:25:56.909594Z",
     "iopub.status.busy": "2024-12-02T20:25:56.909188Z",
     "iopub.status.idle": "2024-12-02T20:25:56.921621Z",
     "shell.execute_reply": "2024-12-02T20:25:56.920312Z"
    },
    "id": "fleC5rORI0Xl",
    "papermill": {
     "duration": 0.029863,
     "end_time": "2024-12-02T20:25:56.924068",
     "exception": false,
     "start_time": "2024-12-02T20:25:56.894205",
     "status": "completed"
    },
    "tags": []
   },
   "outputs": [
    {
     "data": {
      "text/html": [
       "<div>\n",
       "<style scoped>\n",
       "    .dataframe tbody tr th:only-of-type {\n",
       "        vertical-align: middle;\n",
       "    }\n",
       "\n",
       "    .dataframe tbody tr th {\n",
       "        vertical-align: top;\n",
       "    }\n",
       "\n",
       "    .dataframe thead th {\n",
       "        text-align: right;\n",
       "    }\n",
       "</style>\n",
       "<table border=\"1\" class=\"dataframe\">\n",
       "  <thead>\n",
       "    <tr style=\"text-align: right;\">\n",
       "      <th></th>\n",
       "      <th>latest.cost.tuition.in_state</th>\n",
       "      <th>latest.cost.tuition.out_of_state</th>\n",
       "      <th>latest.student.size</th>\n",
       "      <th>school.name</th>\n",
       "      <th>school.state</th>\n",
       "      <th>id</th>\n",
       "    </tr>\n",
       "  </thead>\n",
       "  <tbody>\n",
       "    <tr>\n",
       "      <th>0</th>\n",
       "      <td>31650</td>\n",
       "      <td>31650</td>\n",
       "      <td>1028</td>\n",
       "      <td>Arizona Christian University</td>\n",
       "      <td>AZ</td>\n",
       "      <td>105899</td>\n",
       "    </tr>\n",
       "    <tr>\n",
       "      <th>1</th>\n",
       "      <td>0</td>\n",
       "      <td>0</td>\n",
       "      <td>1972</td>\n",
       "      <td>Universal Technical Institute of Arizona Inc</td>\n",
       "      <td>AZ</td>\n",
       "      <td>106041</td>\n",
       "    </tr>\n",
       "    <tr>\n",
       "      <th>2</th>\n",
       "      <td>2680</td>\n",
       "      <td>9340</td>\n",
       "      <td>3577</td>\n",
       "      <td>Yavapai College</td>\n",
       "      <td>AZ</td>\n",
       "      <td>106148</td>\n",
       "    </tr>\n",
       "    <tr>\n",
       "      <th>3</th>\n",
       "      <td>8366</td>\n",
       "      <td>18957</td>\n",
       "      <td>4802</td>\n",
       "      <td>University of Arkansas at Little Rock</td>\n",
       "      <td>AR</td>\n",
       "      <td>106245</td>\n",
       "    </tr>\n",
       "    <tr>\n",
       "      <th>4</th>\n",
       "      <td>0</td>\n",
       "      <td>0</td>\n",
       "      <td>1287</td>\n",
       "      <td>University of Arkansas for Medical Sciences</td>\n",
       "      <td>AR</td>\n",
       "      <td>106263</td>\n",
       "    </tr>\n",
       "  </tbody>\n",
       "</table>\n",
       "</div>"
      ],
      "text/plain": [
       "   latest.cost.tuition.in_state  latest.cost.tuition.out_of_state  \\\n",
       "0                         31650                             31650   \n",
       "1                             0                                 0   \n",
       "2                          2680                              9340   \n",
       "3                          8366                             18957   \n",
       "4                             0                                 0   \n",
       "\n",
       "   latest.student.size                                   school.name  \\\n",
       "0                 1028                  Arizona Christian University   \n",
       "1                 1972  Universal Technical Institute of Arizona Inc   \n",
       "2                 3577                               Yavapai College   \n",
       "3                 4802         University of Arkansas at Little Rock   \n",
       "4                 1287   University of Arkansas for Medical Sciences   \n",
       "\n",
       "  school.state      id  \n",
       "0           AZ  105899  \n",
       "1           AZ  106041  \n",
       "2           AZ  106148  \n",
       "3           AR  106245  \n",
       "4           AR  106263  "
      ]
     },
     "execution_count": 12,
     "metadata": {},
     "output_type": "execute_result"
    }
   ],
   "source": [
    "#Inspecting the dataframe visually\n",
    "scorecard.head()"
   ]
  },
  {
   "cell_type": "code",
   "execution_count": 13,
   "id": "d13da23a",
   "metadata": {
    "execution": {
     "iopub.execute_input": "2024-12-02T20:25:56.953147Z",
     "iopub.status.busy": "2024-12-02T20:25:56.952752Z",
     "iopub.status.idle": "2024-12-02T20:25:56.959809Z",
     "shell.execute_reply": "2024-12-02T20:25:56.958786Z"
    },
    "id": "BTuQw7Rbsio4",
    "papermill": {
     "duration": 0.024121,
     "end_time": "2024-12-02T20:25:56.961931",
     "exception": false,
     "start_time": "2024-12-02T20:25:56.937810",
     "status": "completed"
    },
    "tags": []
   },
   "outputs": [
    {
     "data": {
      "text/plain": [
       "Index(['latest.cost.tuition.in_state', 'latest.cost.tuition.out_of_state',\n",
       "       'latest.student.size', 'school.name', 'school.state', 'id'],\n",
       "      dtype='object')"
      ]
     },
     "execution_count": 13,
     "metadata": {},
     "output_type": "execute_result"
    }
   ],
   "source": [
    "#view columns in scorecard\n",
    "scorecard.columns"
   ]
  },
  {
   "cell_type": "markdown",
   "id": "5c584e19",
   "metadata": {
    "papermill": {
     "duration": 0.013353,
     "end_time": "2024-12-02T20:25:56.989034",
     "exception": false,
     "start_time": "2024-12-02T20:25:56.975681",
     "status": "completed"
    },
    "tags": []
   },
   "source": [
    "Issue and justification: The title school.name needs to be changed to Institution name. The titles latest.cost.tuition.in_state and latest.cost.tuition.out_of_state need to be changed for readability. "
   ]
  },
  {
   "cell_type": "markdown",
   "id": "8723ef83",
   "metadata": {
    "id": "4ffMoRGSwzYj",
    "papermill": {
     "duration": 0.015512,
     "end_time": "2024-12-02T20:25:57.020162",
     "exception": false,
     "start_time": "2024-12-02T20:25:57.004650",
     "status": "completed"
    },
    "tags": []
   },
   "source": [
    "### Tidiness Issue 2: "
   ]
  },
  {
   "cell_type": "code",
   "execution_count": 14,
   "id": "f4c1ce3d",
   "metadata": {
    "execution": {
     "iopub.execute_input": "2024-12-02T20:25:57.051437Z",
     "iopub.status.busy": "2024-12-02T20:25:57.051016Z",
     "iopub.status.idle": "2024-12-02T20:25:57.059648Z",
     "shell.execute_reply": "2024-12-02T20:25:57.058223Z"
    },
    "id": "c8JK4DoXxtFA",
    "papermill": {
     "duration": 0.027099,
     "end_time": "2024-12-02T20:25:57.062177",
     "exception": false,
     "start_time": "2024-12-02T20:25:57.035078",
     "status": "completed"
    },
    "scrolled": true,
    "tags": []
   },
   "outputs": [
    {
     "data": {
      "text/plain": [
       "2025 Rank                          object\n",
       "2024 Rank                          object\n",
       "Institution Name                   object\n",
       "Location                           object\n",
       "Location Full                      object\n",
       "Size                               object\n",
       "Academic Reputation               float64\n",
       "Employer Reputation               float64\n",
       "Faculty Student                   float64\n",
       "Citations per Faculty             float64\n",
       "International Faculty             float64\n",
       "International Students            float64\n",
       "International Research Network    float64\n",
       "Employment Outcomes               float64\n",
       "Sustainability                    float64\n",
       "QS Overall Score                   object\n",
       "dtype: object"
      ]
     },
     "execution_count": 14,
     "metadata": {},
     "output_type": "execute_result"
    }
   ],
   "source": [
    "#view data types in world_rankings\n",
    "world_rankings.dtypes"
   ]
  },
  {
   "cell_type": "markdown",
   "id": "98ec78e5",
   "metadata": {
    "papermill": {
     "duration": 0.014146,
     "end_time": "2024-12-02T20:25:57.091311",
     "exception": false,
     "start_time": "2024-12-02T20:25:57.077165",
     "status": "completed"
    },
    "tags": []
   },
   "source": [
    "Issue and justification: 2024/2025 rank are currently object and will have to be changed to integer.\n",
    "Size column is currenty object and needs to be changed to category data type"
   ]
  },
  {
   "cell_type": "markdown",
   "id": "ce0c7d8e",
   "metadata": {
    "id": "D6gmLnBttpCh",
    "papermill": {
     "duration": 0.013599,
     "end_time": "2024-12-02T20:25:57.119485",
     "exception": false,
     "start_time": "2024-12-02T20:25:57.105886",
     "status": "completed"
    },
    "tags": []
   },
   "source": [
    "## Clean data"
   ]
  },
  {
   "cell_type": "code",
   "execution_count": 15,
   "id": "3b3829a2",
   "metadata": {
    "execution": {
     "iopub.execute_input": "2024-12-02T20:25:57.149159Z",
     "iopub.status.busy": "2024-12-02T20:25:57.148759Z",
     "iopub.status.idle": "2024-12-02T20:25:57.154869Z",
     "shell.execute_reply": "2024-12-02T20:25:57.153622Z"
    },
    "papermill": {
     "duration": 0.023654,
     "end_time": "2024-12-02T20:25:57.157221",
     "exception": false,
     "start_time": "2024-12-02T20:25:57.133567",
     "status": "completed"
    },
    "tags": []
   },
   "outputs": [],
   "source": [
    "# make copies of the datasets \n",
    "scorecard_copy = scorecard.copy()"
   ]
  },
  {
   "cell_type": "code",
   "execution_count": 16,
   "id": "cf4845f7",
   "metadata": {
    "execution": {
     "iopub.execute_input": "2024-12-02T20:25:57.186811Z",
     "iopub.status.busy": "2024-12-02T20:25:57.186437Z",
     "iopub.status.idle": "2024-12-02T20:25:57.192549Z",
     "shell.execute_reply": "2024-12-02T20:25:57.191233Z"
    },
    "papermill": {
     "duration": 0.023564,
     "end_time": "2024-12-02T20:25:57.194870",
     "exception": false,
     "start_time": "2024-12-02T20:25:57.171306",
     "status": "completed"
    },
    "tags": []
   },
   "outputs": [],
   "source": [
    "world_rankings_copy = world_rankings.copy()"
   ]
  },
  {
   "cell_type": "markdown",
   "id": "079d36ae",
   "metadata": {
    "id": "FmFhN52Yyn3l",
    "papermill": {
     "duration": 0.013843,
     "end_time": "2024-12-02T20:25:57.225414",
     "exception": false,
     "start_time": "2024-12-02T20:25:57.211571",
     "status": "completed"
    },
    "tags": []
   },
   "source": [
    "### **Quality Issue 1**"
   ]
  },
  {
   "cell_type": "code",
   "execution_count": 17,
   "id": "6da1fe6f",
   "metadata": {
    "execution": {
     "iopub.execute_input": "2024-12-02T20:25:57.255270Z",
     "iopub.status.busy": "2024-12-02T20:25:57.254826Z",
     "iopub.status.idle": "2024-12-02T20:25:57.279001Z",
     "shell.execute_reply": "2024-12-02T20:25:57.277738Z"
    },
    "id": "9UejDWrNMW4a",
    "papermill": {
     "duration": 0.042022,
     "end_time": "2024-12-02T20:25:57.281599",
     "exception": false,
     "start_time": "2024-12-02T20:25:57.239577",
     "status": "completed"
    },
    "tags": []
   },
   "outputs": [],
   "source": [
    "#scorecard - out-of-state tuition - replace '0' values with null\n",
    "scorecard_copy['latest.cost.tuition.out_of_state'] = scorecard_copy['latest.cost.tuition.out_of_state'].replace(0, pd.NA)\n",
    "\n",
    "#scorecard - in-state tuition - replace '0' values with null\n",
    "scorecard_copy['latest.cost.tuition.in_state'] = scorecard_copy['latest.cost.tuition.in_state'].replace(0, pd.NA)\n",
    "\n",
    "#scorecard - in-state tuition - drop rows with null values\n",
    "scorecard_copy = scorecard_copy.dropna(subset=['latest.cost.tuition.in_state'])\n",
    "\n",
    "#scorecard - out-of-state tuition - drop rows with null values\n",
    "scorecard_copy = scorecard_copy.dropna(subset=['latest.cost.tuition.out_of_state'])"
   ]
  },
  {
   "cell_type": "code",
   "execution_count": 18,
   "id": "7d2a719b",
   "metadata": {
    "execution": {
     "iopub.execute_input": "2024-12-02T20:25:57.311368Z",
     "iopub.status.busy": "2024-12-02T20:25:57.310995Z",
     "iopub.status.idle": "2024-12-02T20:25:57.317129Z",
     "shell.execute_reply": "2024-12-02T20:25:57.315912Z"
    },
    "papermill": {
     "duration": 0.02408,
     "end_time": "2024-12-02T20:25:57.319881",
     "exception": false,
     "start_time": "2024-12-02T20:25:57.295801",
     "status": "completed"
    },
    "tags": []
   },
   "outputs": [],
   "source": [
    "scorecard_copy = scorecard_copy.reset_index(drop=True)"
   ]
  },
  {
   "cell_type": "code",
   "execution_count": 19,
   "id": "4f3ef7b0",
   "metadata": {
    "execution": {
     "iopub.execute_input": "2024-12-02T20:25:57.352333Z",
     "iopub.status.busy": "2024-12-02T20:25:57.351364Z",
     "iopub.status.idle": "2024-12-02T20:25:57.359653Z",
     "shell.execute_reply": "2024-12-02T20:25:57.358477Z"
    },
    "papermill": {
     "duration": 0.025983,
     "end_time": "2024-12-02T20:25:57.361843",
     "exception": false,
     "start_time": "2024-12-02T20:25:57.335860",
     "status": "completed"
    },
    "tags": []
   },
   "outputs": [
    {
     "data": {
      "text/plain": [
       "0"
      ]
     },
     "execution_count": 19,
     "metadata": {},
     "output_type": "execute_result"
    }
   ],
   "source": [
    "#scorecard - in-state tuition - verify no 0 values\n",
    "(scorecard_copy['latest.cost.tuition.in_state'] == 0).sum()"
   ]
  },
  {
   "cell_type": "code",
   "execution_count": 20,
   "id": "37574efa",
   "metadata": {
    "execution": {
     "iopub.execute_input": "2024-12-02T20:25:57.393730Z",
     "iopub.status.busy": "2024-12-02T20:25:57.392593Z",
     "iopub.status.idle": "2024-12-02T20:25:57.401118Z",
     "shell.execute_reply": "2024-12-02T20:25:57.399929Z"
    },
    "id": "oUBee-LPytkv",
    "papermill": {
     "duration": 0.027151,
     "end_time": "2024-12-02T20:25:57.403734",
     "exception": false,
     "start_time": "2024-12-02T20:25:57.376583",
     "status": "completed"
    },
    "tags": []
   },
   "outputs": [
    {
     "data": {
      "text/plain": [
       "0"
      ]
     },
     "execution_count": 20,
     "metadata": {},
     "output_type": "execute_result"
    }
   ],
   "source": [
    "#scorecard - in-state tuition - verify no null values\n",
    "scorecard_copy['latest.cost.tuition.in_state'].isnull().sum()"
   ]
  },
  {
   "cell_type": "code",
   "execution_count": 21,
   "id": "0adcbbe5",
   "metadata": {
    "execution": {
     "iopub.execute_input": "2024-12-02T20:25:57.434102Z",
     "iopub.status.busy": "2024-12-02T20:25:57.433651Z",
     "iopub.status.idle": "2024-12-02T20:25:57.441643Z",
     "shell.execute_reply": "2024-12-02T20:25:57.440471Z"
    },
    "papermill": {
     "duration": 0.025685,
     "end_time": "2024-12-02T20:25:57.443825",
     "exception": false,
     "start_time": "2024-12-02T20:25:57.418140",
     "status": "completed"
    },
    "tags": []
   },
   "outputs": [
    {
     "data": {
      "text/plain": [
       "0"
      ]
     },
     "execution_count": 21,
     "metadata": {},
     "output_type": "execute_result"
    }
   ],
   "source": [
    "#scorecard - out-of-state tuition - verify no 0 values\n",
    "(scorecard_copy['latest.cost.tuition.out_of_state'] == 0).sum()"
   ]
  },
  {
   "cell_type": "code",
   "execution_count": 22,
   "id": "9132028b",
   "metadata": {
    "execution": {
     "iopub.execute_input": "2024-12-02T20:25:57.474062Z",
     "iopub.status.busy": "2024-12-02T20:25:57.473650Z",
     "iopub.status.idle": "2024-12-02T20:25:57.481927Z",
     "shell.execute_reply": "2024-12-02T20:25:57.480723Z"
    },
    "papermill": {
     "duration": 0.026294,
     "end_time": "2024-12-02T20:25:57.484358",
     "exception": false,
     "start_time": "2024-12-02T20:25:57.458064",
     "status": "completed"
    },
    "tags": []
   },
   "outputs": [
    {
     "data": {
      "text/plain": [
       "0"
      ]
     },
     "execution_count": 22,
     "metadata": {},
     "output_type": "execute_result"
    }
   ],
   "source": [
    "#scorecard - out-of-state tuition - verify no null values\n",
    "scorecard_copy['latest.cost.tuition.out_of_state'].isnull().sum()"
   ]
  },
  {
   "cell_type": "markdown",
   "id": "f8c829ad",
   "metadata": {
    "papermill": {
     "duration": 0.013789,
     "end_time": "2024-12-02T20:25:57.512591",
     "exception": false,
     "start_time": "2024-12-02T20:25:57.498802",
     "status": "completed"
    },
    "tags": []
   },
   "source": [
    "Justification: Removed all null values from in-state and out-of-state columns because the zeros are missing data due to the fact that no college has free tuition."
   ]
  },
  {
   "cell_type": "markdown",
   "id": "768893fd",
   "metadata": {
    "id": "n_DAUbJrymBL",
    "papermill": {
     "duration": 0.013952,
     "end_time": "2024-12-02T20:25:57.540953",
     "exception": false,
     "start_time": "2024-12-02T20:25:57.527001",
     "status": "completed"
    },
    "tags": []
   },
   "source": [
    "### **Quality Issue 2**"
   ]
  },
  {
   "cell_type": "code",
   "execution_count": 23,
   "id": "7730a396",
   "metadata": {
    "execution": {
     "iopub.execute_input": "2024-12-02T20:25:57.571062Z",
     "iopub.status.busy": "2024-12-02T20:25:57.570663Z",
     "iopub.status.idle": "2024-12-02T20:25:57.580872Z",
     "shell.execute_reply": "2024-12-02T20:25:57.579752Z"
    },
    "id": "5Yfb-Yu5MTuE",
    "papermill": {
     "duration": 0.027906,
     "end_time": "2024-12-02T20:25:57.583102",
     "exception": false,
     "start_time": "2024-12-02T20:25:57.555196",
     "status": "completed"
    },
    "tags": []
   },
   "outputs": [],
   "source": [
    "#world_rankings - 2024 Rank - drop rows with null nalues\n",
    "world_rankings_copy = world_rankings_copy.dropna(subset=['2024 Rank'])\n",
    "\n",
    "\n",
    "#world_rankings - 2025 Rank - drop rows with null nalues\n",
    "world_rankings_copy = world_rankings_copy.dropna(subset=['2025 Rank'])"
   ]
  },
  {
   "cell_type": "code",
   "execution_count": 24,
   "id": "7d99c225",
   "metadata": {
    "execution": {
     "iopub.execute_input": "2024-12-02T20:25:57.613452Z",
     "iopub.status.busy": "2024-12-02T20:25:57.613030Z",
     "iopub.status.idle": "2024-12-02T20:25:57.619243Z",
     "shell.execute_reply": "2024-12-02T20:25:57.617900Z"
    },
    "papermill": {
     "duration": 0.024411,
     "end_time": "2024-12-02T20:25:57.621718",
     "exception": false,
     "start_time": "2024-12-02T20:25:57.597307",
     "status": "completed"
    },
    "tags": []
   },
   "outputs": [],
   "source": [
    "#world_rankings - reset index\n",
    "world_rankings_copy = world_rankings_copy.reset_index(drop=True)"
   ]
  },
  {
   "cell_type": "code",
   "execution_count": 25,
   "id": "af02e9a0",
   "metadata": {
    "execution": {
     "iopub.execute_input": "2024-12-02T20:25:57.652442Z",
     "iopub.status.busy": "2024-12-02T20:25:57.652008Z",
     "iopub.status.idle": "2024-12-02T20:25:57.659914Z",
     "shell.execute_reply": "2024-12-02T20:25:57.658688Z"
    },
    "papermill": {
     "duration": 0.025927,
     "end_time": "2024-12-02T20:25:57.662097",
     "exception": false,
     "start_time": "2024-12-02T20:25:57.636170",
     "status": "completed"
    },
    "tags": []
   },
   "outputs": [
    {
     "data": {
      "text/plain": [
       "0"
      ]
     },
     "execution_count": 25,
     "metadata": {},
     "output_type": "execute_result"
    }
   ],
   "source": [
    "#world_rankings - 2024 Rank - verify 0 null values\n",
    "world_rankings_copy['2024 Rank'].isnull().sum()"
   ]
  },
  {
   "cell_type": "code",
   "execution_count": 26,
   "id": "b9711bb1",
   "metadata": {
    "execution": {
     "iopub.execute_input": "2024-12-02T20:25:57.694909Z",
     "iopub.status.busy": "2024-12-02T20:25:57.694499Z",
     "iopub.status.idle": "2024-12-02T20:25:57.702335Z",
     "shell.execute_reply": "2024-12-02T20:25:57.700995Z"
    },
    "papermill": {
     "duration": 0.027714,
     "end_time": "2024-12-02T20:25:57.704976",
     "exception": false,
     "start_time": "2024-12-02T20:25:57.677262",
     "status": "completed"
    },
    "tags": []
   },
   "outputs": [
    {
     "data": {
      "text/plain": [
       "0"
      ]
     },
     "execution_count": 26,
     "metadata": {},
     "output_type": "execute_result"
    }
   ],
   "source": [
    "#world_rankings - 2025 Rank - verify 0 null values\n",
    "world_rankings_copy['2024 Rank'].isnull().sum()"
   ]
  },
  {
   "cell_type": "markdown",
   "id": "14f69e54",
   "metadata": {
    "papermill": {
     "duration": 0.015083,
     "end_time": "2024-12-02T20:25:57.735513",
     "exception": false,
     "start_time": "2024-12-02T20:25:57.720430",
     "status": "completed"
    },
    "tags": []
   },
   "source": [
    "Justification: Dropped any null values in the rank columns so they do not skew our data, unranked schools will not benefit our analysis."
   ]
  },
  {
   "cell_type": "markdown",
   "id": "4493d76b",
   "metadata": {
    "papermill": {
     "duration": 0.015305,
     "end_time": "2024-12-02T20:25:57.766593",
     "exception": false,
     "start_time": "2024-12-02T20:25:57.751288",
     "status": "completed"
    },
    "tags": []
   },
   "source": [
    "### **Quality Issue 3**"
   ]
  },
  {
   "cell_type": "code",
   "execution_count": 27,
   "id": "94d87151",
   "metadata": {
    "execution": {
     "iopub.execute_input": "2024-12-02T20:25:57.798327Z",
     "iopub.status.busy": "2024-12-02T20:25:57.797922Z",
     "iopub.status.idle": "2024-12-02T20:25:57.818547Z",
     "shell.execute_reply": "2024-12-02T20:25:57.817196Z"
    },
    "papermill": {
     "duration": 0.039079,
     "end_time": "2024-12-02T20:25:57.821048",
     "exception": false,
     "start_time": "2024-12-02T20:25:57.781969",
     "status": "completed"
    },
    "tags": []
   },
   "outputs": [
    {
     "data": {
      "text/html": [
       "<div>\n",
       "<style scoped>\n",
       "    .dataframe tbody tr th:only-of-type {\n",
       "        vertical-align: middle;\n",
       "    }\n",
       "\n",
       "    .dataframe tbody tr th {\n",
       "        vertical-align: top;\n",
       "    }\n",
       "\n",
       "    .dataframe thead th {\n",
       "        text-align: right;\n",
       "    }\n",
       "</style>\n",
       "<table border=\"1\" class=\"dataframe\">\n",
       "  <thead>\n",
       "    <tr style=\"text-align: right;\">\n",
       "      <th></th>\n",
       "      <th>2025 Rank</th>\n",
       "      <th>2024 Rank</th>\n",
       "      <th>Institution Name</th>\n",
       "      <th>Location</th>\n",
       "      <th>Location Full</th>\n",
       "      <th>Size</th>\n",
       "      <th>Academic Reputation</th>\n",
       "      <th>Employer Reputation</th>\n",
       "      <th>Faculty Student</th>\n",
       "      <th>Citations per Faculty</th>\n",
       "      <th>International Faculty</th>\n",
       "      <th>International Students</th>\n",
       "      <th>International Research Network</th>\n",
       "      <th>Employment Outcomes</th>\n",
       "      <th>Sustainability</th>\n",
       "      <th>QS Overall Score</th>\n",
       "    </tr>\n",
       "  </thead>\n",
       "  <tbody>\n",
       "    <tr>\n",
       "      <th>1477</th>\n",
       "      <td>1401+</td>\n",
       "      <td>1201-1400</td>\n",
       "      <td>University of Montana Missoula</td>\n",
       "      <td>US</td>\n",
       "      <td>United States</td>\n",
       "      <td>M</td>\n",
       "      <td>3.0</td>\n",
       "      <td>2.2</td>\n",
       "      <td>10.6</td>\n",
       "      <td>6.1</td>\n",
       "      <td>1.3</td>\n",
       "      <td>1.9</td>\n",
       "      <td>6.5</td>\n",
       "      <td>3.1</td>\n",
       "      <td>1.0</td>\n",
       "      <td>-</td>\n",
       "    </tr>\n",
       "    <tr>\n",
       "      <th>1478</th>\n",
       "      <td>1401+</td>\n",
       "      <td>1401+</td>\n",
       "      <td>University of Oradea</td>\n",
       "      <td>RO</td>\n",
       "      <td>Romania</td>\n",
       "      <td>L</td>\n",
       "      <td>5.6</td>\n",
       "      <td>2.2</td>\n",
       "      <td>4.0</td>\n",
       "      <td>1.9</td>\n",
       "      <td>1.5</td>\n",
       "      <td>5.2</td>\n",
       "      <td>34.5</td>\n",
       "      <td>6.2</td>\n",
       "      <td>2.3</td>\n",
       "      <td>-</td>\n",
       "    </tr>\n",
       "    <tr>\n",
       "      <th>1479</th>\n",
       "      <td>1401+</td>\n",
       "      <td>1201-1400</td>\n",
       "      <td>University of San Carlos</td>\n",
       "      <td>PH</td>\n",
       "      <td>Philippines</td>\n",
       "      <td>M</td>\n",
       "      <td>7.2</td>\n",
       "      <td>9.4</td>\n",
       "      <td>3.3</td>\n",
       "      <td>1.8</td>\n",
       "      <td>2.1</td>\n",
       "      <td>2.1</td>\n",
       "      <td>6.4</td>\n",
       "      <td>9.6</td>\n",
       "      <td>1.0</td>\n",
       "      <td>-</td>\n",
       "    </tr>\n",
       "    <tr>\n",
       "      <th>1480</th>\n",
       "      <td>1401+</td>\n",
       "      <td>1401+</td>\n",
       "      <td>University Politehnica of Timisoara, UPT</td>\n",
       "      <td>RO</td>\n",
       "      <td>Romania</td>\n",
       "      <td>L</td>\n",
       "      <td>4.1</td>\n",
       "      <td>4.2</td>\n",
       "      <td>7.2</td>\n",
       "      <td>3.9</td>\n",
       "      <td>1.4</td>\n",
       "      <td>2.5</td>\n",
       "      <td>18.6</td>\n",
       "      <td>3.9</td>\n",
       "      <td>1.1</td>\n",
       "      <td>-</td>\n",
       "    </tr>\n",
       "    <tr>\n",
       "      <th>1481</th>\n",
       "      <td>1401+</td>\n",
       "      <td>1401+</td>\n",
       "      <td>Western Washington University</td>\n",
       "      <td>US</td>\n",
       "      <td>United States</td>\n",
       "      <td>L</td>\n",
       "      <td>2.6</td>\n",
       "      <td>2.6</td>\n",
       "      <td>7.3</td>\n",
       "      <td>3.5</td>\n",
       "      <td>9.7</td>\n",
       "      <td>1.6</td>\n",
       "      <td>12.4</td>\n",
       "      <td>1.5</td>\n",
       "      <td>1.1</td>\n",
       "      <td>-</td>\n",
       "    </tr>\n",
       "  </tbody>\n",
       "</table>\n",
       "</div>"
      ],
      "text/plain": [
       "     2025 Rank  2024 Rank                          Institution Name Location  \\\n",
       "1477     1401+  1201-1400           University of Montana Missoula        US   \n",
       "1478     1401+      1401+                      University of Oradea       RO   \n",
       "1479     1401+  1201-1400                  University of San Carlos       PH   \n",
       "1480     1401+      1401+  University Politehnica of Timisoara, UPT       RO   \n",
       "1481     1401+      1401+             Western Washington University       US   \n",
       "\n",
       "      Location Full Size  Academic Reputation  Employer Reputation  \\\n",
       "1477  United States    M                  3.0                  2.2   \n",
       "1478        Romania    L                  5.6                  2.2   \n",
       "1479    Philippines    M                  7.2                  9.4   \n",
       "1480        Romania    L                  4.1                  4.2   \n",
       "1481  United States    L                  2.6                  2.6   \n",
       "\n",
       "      Faculty Student  Citations per Faculty  International Faculty  \\\n",
       "1477             10.6                    6.1                    1.3   \n",
       "1478              4.0                    1.9                    1.5   \n",
       "1479              3.3                    1.8                    2.1   \n",
       "1480              7.2                    3.9                    1.4   \n",
       "1481              7.3                    3.5                    9.7   \n",
       "\n",
       "      International Students  International Research Network  \\\n",
       "1477                     1.9                             6.5   \n",
       "1478                     5.2                            34.5   \n",
       "1479                     2.1                             6.4   \n",
       "1480                     2.5                            18.6   \n",
       "1481                     1.6                            12.4   \n",
       "\n",
       "      Employment Outcomes  Sustainability QS Overall Score  \n",
       "1477                  3.1             1.0                -  \n",
       "1478                  6.2             2.3                -  \n",
       "1479                  9.6             1.0                -  \n",
       "1480                  3.9             1.1                -  \n",
       "1481                  1.5             1.1                -  "
      ]
     },
     "execution_count": 27,
     "metadata": {},
     "output_type": "execute_result"
    }
   ],
   "source": [
    "world_rankings_copy.tail()"
   ]
  },
  {
   "cell_type": "code",
   "execution_count": 28,
   "id": "1f555d49",
   "metadata": {
    "execution": {
     "iopub.execute_input": "2024-12-02T20:25:57.854295Z",
     "iopub.status.busy": "2024-12-02T20:25:57.853895Z",
     "iopub.status.idle": "2024-12-02T20:25:57.864233Z",
     "shell.execute_reply": "2024-12-02T20:25:57.863072Z"
    },
    "papermill": {
     "duration": 0.029918,
     "end_time": "2024-12-02T20:25:57.866533",
     "exception": false,
     "start_time": "2024-12-02T20:25:57.836615",
     "status": "completed"
    },
    "tags": []
   },
   "outputs": [],
   "source": [
    "#world_rankings - 2025 Rank - remove any rows with - or + in them\n",
    "world_rankings_copy = world_rankings_copy[~world_rankings_copy['2025 Rank'].str.contains(r'[-+]', na=False, regex=True)]\n",
    "\n",
    "#world_rankings - 2024 Rank - remove any rows with - or + in them\n",
    "world_rankings_copy = world_rankings_copy[~world_rankings_copy['2024 Rank'].str.contains(r'[-+]', na=False, regex=True)]"
   ]
  },
  {
   "cell_type": "code",
   "execution_count": 29,
   "id": "01a88f87",
   "metadata": {
    "execution": {
     "iopub.execute_input": "2024-12-02T20:25:57.899395Z",
     "iopub.status.busy": "2024-12-02T20:25:57.898932Z",
     "iopub.status.idle": "2024-12-02T20:25:57.906176Z",
     "shell.execute_reply": "2024-12-02T20:25:57.904681Z"
    },
    "papermill": {
     "duration": 0.027675,
     "end_time": "2024-12-02T20:25:57.909187",
     "exception": false,
     "start_time": "2024-12-02T20:25:57.881512",
     "status": "completed"
    },
    "tags": []
   },
   "outputs": [],
   "source": [
    "#world_rankings - reset index\n",
    "world_rankings_copy = world_rankings_copy.reset_index(drop=True)"
   ]
  },
  {
   "cell_type": "code",
   "execution_count": 30,
   "id": "0cf4bbaf",
   "metadata": {
    "execution": {
     "iopub.execute_input": "2024-12-02T20:25:57.942157Z",
     "iopub.status.busy": "2024-12-02T20:25:57.941302Z",
     "iopub.status.idle": "2024-12-02T20:25:57.962267Z",
     "shell.execute_reply": "2024-12-02T20:25:57.961092Z"
    },
    "papermill": {
     "duration": 0.039544,
     "end_time": "2024-12-02T20:25:57.964480",
     "exception": false,
     "start_time": "2024-12-02T20:25:57.924936",
     "status": "completed"
    },
    "tags": []
   },
   "outputs": [
    {
     "data": {
      "text/html": [
       "<div>\n",
       "<style scoped>\n",
       "    .dataframe tbody tr th:only-of-type {\n",
       "        vertical-align: middle;\n",
       "    }\n",
       "\n",
       "    .dataframe tbody tr th {\n",
       "        vertical-align: top;\n",
       "    }\n",
       "\n",
       "    .dataframe thead th {\n",
       "        text-align: right;\n",
       "    }\n",
       "</style>\n",
       "<table border=\"1\" class=\"dataframe\">\n",
       "  <thead>\n",
       "    <tr style=\"text-align: right;\">\n",
       "      <th></th>\n",
       "      <th>2025 Rank</th>\n",
       "      <th>2024 Rank</th>\n",
       "      <th>Institution Name</th>\n",
       "      <th>Location</th>\n",
       "      <th>Location Full</th>\n",
       "      <th>Size</th>\n",
       "      <th>Academic Reputation</th>\n",
       "      <th>Employer Reputation</th>\n",
       "      <th>Faculty Student</th>\n",
       "      <th>Citations per Faculty</th>\n",
       "      <th>International Faculty</th>\n",
       "      <th>International Students</th>\n",
       "      <th>International Research Network</th>\n",
       "      <th>Employment Outcomes</th>\n",
       "      <th>Sustainability</th>\n",
       "      <th>QS Overall Score</th>\n",
       "    </tr>\n",
       "  </thead>\n",
       "  <tbody>\n",
       "    <tr>\n",
       "      <th>565</th>\n",
       "      <td>596</td>\n",
       "      <td>491</td>\n",
       "      <td>University of Iowa</td>\n",
       "      <td>US</td>\n",
       "      <td>United States</td>\n",
       "      <td>L</td>\n",
       "      <td>18.4</td>\n",
       "      <td>8.7</td>\n",
       "      <td>41.7</td>\n",
       "      <td>19.1</td>\n",
       "      <td>15.5</td>\n",
       "      <td>3.7</td>\n",
       "      <td>75.6</td>\n",
       "      <td>26.6</td>\n",
       "      <td>20.8</td>\n",
       "      <td>20.8</td>\n",
       "    </tr>\n",
       "    <tr>\n",
       "      <th>566</th>\n",
       "      <td>596</td>\n",
       "      <td>520</td>\n",
       "      <td>University of Texas Dallas</td>\n",
       "      <td>US</td>\n",
       "      <td>United States</td>\n",
       "      <td>L</td>\n",
       "      <td>13.1</td>\n",
       "      <td>15.9</td>\n",
       "      <td>3.4</td>\n",
       "      <td>43.3</td>\n",
       "      <td>9.7</td>\n",
       "      <td>47.4</td>\n",
       "      <td>60.4</td>\n",
       "      <td>4.9</td>\n",
       "      <td>9.5</td>\n",
       "      <td>20.8</td>\n",
       "    </tr>\n",
       "    <tr>\n",
       "      <th>567</th>\n",
       "      <td>508</td>\n",
       "      <td>595</td>\n",
       "      <td>Shenzhen University</td>\n",
       "      <td>CN</td>\n",
       "      <td>China (Mainland)</td>\n",
       "      <td>XL</td>\n",
       "      <td>7.7</td>\n",
       "      <td>3.2</td>\n",
       "      <td>42.1</td>\n",
       "      <td>64.5</td>\n",
       "      <td>11.0</td>\n",
       "      <td>1.4</td>\n",
       "      <td>65.1</td>\n",
       "      <td>15.8</td>\n",
       "      <td>7.4</td>\n",
       "      <td>23.9</td>\n",
       "    </tr>\n",
       "    <tr>\n",
       "      <th>568</th>\n",
       "      <td>501</td>\n",
       "      <td>511</td>\n",
       "      <td>East China Normal University</td>\n",
       "      <td>CN</td>\n",
       "      <td>China (Mainland)</td>\n",
       "      <td>L</td>\n",
       "      <td>13.3</td>\n",
       "      <td>4.7</td>\n",
       "      <td>16.2</td>\n",
       "      <td>63.5</td>\n",
       "      <td>24.1</td>\n",
       "      <td>9.0</td>\n",
       "      <td>72.0</td>\n",
       "      <td>9.0</td>\n",
       "      <td>6.8</td>\n",
       "      <td>24.1</td>\n",
       "    </tr>\n",
       "    <tr>\n",
       "      <th>569</th>\n",
       "      <td>497</td>\n",
       "      <td>502</td>\n",
       "      <td>Jilin University</td>\n",
       "      <td>CN</td>\n",
       "      <td>China (Mainland)</td>\n",
       "      <td>XL</td>\n",
       "      <td>12.1</td>\n",
       "      <td>46.1</td>\n",
       "      <td>37.4</td>\n",
       "      <td>27.4</td>\n",
       "      <td>11.6</td>\n",
       "      <td>2.1</td>\n",
       "      <td>62.2</td>\n",
       "      <td>23.2</td>\n",
       "      <td>9.1</td>\n",
       "      <td>24.2</td>\n",
       "    </tr>\n",
       "  </tbody>\n",
       "</table>\n",
       "</div>"
      ],
      "text/plain": [
       "    2025 Rank 2024 Rank              Institution Name Location  \\\n",
       "565       596       491            University of Iowa       US   \n",
       "566       596       520    University of Texas Dallas       US   \n",
       "567       508       595           Shenzhen University       CN   \n",
       "568       501       511  East China Normal University       CN   \n",
       "569       497       502              Jilin University       CN   \n",
       "\n",
       "        Location Full Size  Academic Reputation  Employer Reputation  \\\n",
       "565     United States    L                 18.4                  8.7   \n",
       "566     United States    L                 13.1                 15.9   \n",
       "567  China (Mainland)   XL                  7.7                  3.2   \n",
       "568  China (Mainland)    L                 13.3                  4.7   \n",
       "569  China (Mainland)   XL                 12.1                 46.1   \n",
       "\n",
       "     Faculty Student  Citations per Faculty  International Faculty  \\\n",
       "565             41.7                   19.1                   15.5   \n",
       "566              3.4                   43.3                    9.7   \n",
       "567             42.1                   64.5                   11.0   \n",
       "568             16.2                   63.5                   24.1   \n",
       "569             37.4                   27.4                   11.6   \n",
       "\n",
       "     International Students  International Research Network  \\\n",
       "565                     3.7                            75.6   \n",
       "566                    47.4                            60.4   \n",
       "567                     1.4                            65.1   \n",
       "568                     9.0                            72.0   \n",
       "569                     2.1                            62.2   \n",
       "\n",
       "     Employment Outcomes  Sustainability QS Overall Score  \n",
       "565                 26.6            20.8             20.8  \n",
       "566                  4.9             9.5             20.8  \n",
       "567                 15.8             7.4             23.9  \n",
       "568                  9.0             6.8             24.1  \n",
       "569                 23.2             9.1             24.2  "
      ]
     },
     "execution_count": 30,
     "metadata": {},
     "output_type": "execute_result"
    }
   ],
   "source": [
    "world_rankings_copy.tail()"
   ]
  },
  {
   "cell_type": "markdown",
   "id": "61074295",
   "metadata": {
    "id": "bIUrrfSNyOPR",
    "papermill": {
     "duration": 0.015019,
     "end_time": "2024-12-02T20:25:57.994806",
     "exception": false,
     "start_time": "2024-12-02T20:25:57.979787",
     "status": "completed"
    },
    "tags": []
   },
   "source": [
    "### **Tidiness Issue 1**"
   ]
  },
  {
   "cell_type": "code",
   "execution_count": 31,
   "id": "4af9acab",
   "metadata": {
    "execution": {
     "iopub.execute_input": "2024-12-02T20:25:58.027213Z",
     "iopub.status.busy": "2024-12-02T20:25:58.026818Z",
     "iopub.status.idle": "2024-12-02T20:25:58.035021Z",
     "shell.execute_reply": "2024-12-02T20:25:58.033696Z"
    },
    "papermill": {
     "duration": 0.027845,
     "end_time": "2024-12-02T20:25:58.037533",
     "exception": false,
     "start_time": "2024-12-02T20:25:58.009688",
     "status": "completed"
    },
    "tags": []
   },
   "outputs": [
    {
     "data": {
      "text/plain": [
       "Index(['latest.cost.tuition.in_state', 'latest.cost.tuition.out_of_state',\n",
       "       'latest.student.size', 'school.name', 'school.state', 'id'],\n",
       "      dtype='object')"
      ]
     },
     "execution_count": 31,
     "metadata": {},
     "output_type": "execute_result"
    }
   ],
   "source": [
    "scorecard_copy.columns"
   ]
  },
  {
   "cell_type": "code",
   "execution_count": 32,
   "id": "5b70a7c6",
   "metadata": {
    "execution": {
     "iopub.execute_input": "2024-12-02T20:25:58.070687Z",
     "iopub.status.busy": "2024-12-02T20:25:58.070253Z",
     "iopub.status.idle": "2024-12-02T20:25:58.077687Z",
     "shell.execute_reply": "2024-12-02T20:25:58.076605Z"
    },
    "id": "fib0zAm333bn",
    "papermill": {
     "duration": 0.026878,
     "end_time": "2024-12-02T20:25:58.079921",
     "exception": false,
     "start_time": "2024-12-02T20:25:58.053043",
     "status": "completed"
    },
    "tags": []
   },
   "outputs": [
    {
     "data": {
      "text/plain": [
       "Index(['2025 Rank', '2024 Rank', 'Institution Name', 'Location',\n",
       "       'Location Full', 'Size', 'Academic Reputation', 'Employer Reputation',\n",
       "       'Faculty Student', 'Citations per Faculty', 'International Faculty',\n",
       "       'International Students', 'International Research Network',\n",
       "       'Employment Outcomes', 'Sustainability', 'QS Overall Score'],\n",
       "      dtype='object')"
      ]
     },
     "execution_count": 32,
     "metadata": {},
     "output_type": "execute_result"
    }
   ],
   "source": [
    "world_rankings_copy.columns"
   ]
  },
  {
   "cell_type": "code",
   "execution_count": 33,
   "id": "1757999e",
   "metadata": {
    "execution": {
     "iopub.execute_input": "2024-12-02T20:25:58.114581Z",
     "iopub.status.busy": "2024-12-02T20:25:58.114158Z",
     "iopub.status.idle": "2024-12-02T20:25:58.122945Z",
     "shell.execute_reply": "2024-12-02T20:25:58.121777Z"
    },
    "papermill": {
     "duration": 0.028309,
     "end_time": "2024-12-02T20:25:58.125291",
     "exception": false,
     "start_time": "2024-12-02T20:25:58.096982",
     "status": "completed"
    },
    "tags": []
   },
   "outputs": [],
   "source": [
    "#scorecard - rename in-state tuition column\n",
    "scorecard_copy.rename(columns={'latest.cost.tuition.in_state': 'In-State Tuition'}, inplace=True)\n",
    "\n",
    "#rename out of state tuition column\n",
    "scorecard_copy.rename(columns={'latest.cost.tuition.out_of_state': 'Out-Of-State Tuition'}, inplace=True)\n",
    "\n",
    "#rename student size column\n",
    "scorecard_copy.rename(columns={'latest.student.size': 'Student Size'}, inplace=True)\n",
    "\n",
    "#rename school.name column to match column in world_rankings df\n",
    "scorecard_copy.rename(columns={'school.name': 'Institution Name'}, inplace=True)\n",
    "\n",
    "#rename state column\n",
    "scorecard_copy.rename(columns={'school.state': 'Location'}, inplace=True)"
   ]
  },
  {
   "cell_type": "code",
   "execution_count": 34,
   "id": "49b1b039",
   "metadata": {
    "execution": {
     "iopub.execute_input": "2024-12-02T20:25:58.158309Z",
     "iopub.status.busy": "2024-12-02T20:25:58.157897Z",
     "iopub.status.idle": "2024-12-02T20:25:58.165974Z",
     "shell.execute_reply": "2024-12-02T20:25:58.164486Z"
    },
    "id": "yhrnUGY_Nk8B",
    "papermill": {
     "duration": 0.027849,
     "end_time": "2024-12-02T20:25:58.168743",
     "exception": false,
     "start_time": "2024-12-02T20:25:58.140894",
     "status": "completed"
    },
    "tags": []
   },
   "outputs": [
    {
     "data": {
      "text/plain": [
       "Index(['In-State Tuition', 'Out-Of-State Tuition', 'Student Size',\n",
       "       'Institution Name', 'Location', 'id'],\n",
       "      dtype='object')"
      ]
     },
     "execution_count": 34,
     "metadata": {},
     "output_type": "execute_result"
    }
   ],
   "source": [
    "#verify column names\n",
    "scorecard_copy.columns"
   ]
  },
  {
   "cell_type": "markdown",
   "id": "071e0b68",
   "metadata": {
    "papermill": {
     "duration": 0.015815,
     "end_time": "2024-12-02T20:25:58.201026",
     "exception": false,
     "start_time": "2024-12-02T20:25:58.185211",
     "status": "completed"
    },
    "tags": []
   },
   "source": [
    "Justification: I renamed the column named school.name in scorecard to match the column name in world_rankings df for joining purposes. I renamed all other columns for redability and consistency purposes."
   ]
  },
  {
   "cell_type": "markdown",
   "id": "d731df42",
   "metadata": {
    "id": "o51Bt8kwyTzk",
    "papermill": {
     "duration": 0.015819,
     "end_time": "2024-12-02T20:25:58.232677",
     "exception": false,
     "start_time": "2024-12-02T20:25:58.216858",
     "status": "completed"
    },
    "tags": []
   },
   "source": [
    "### **Tidiness Issue 2**"
   ]
  },
  {
   "cell_type": "code",
   "execution_count": 35,
   "id": "15b69320",
   "metadata": {
    "execution": {
     "iopub.execute_input": "2024-12-02T20:25:58.264923Z",
     "iopub.status.busy": "2024-12-02T20:25:58.264524Z",
     "iopub.status.idle": "2024-12-02T20:25:58.273196Z",
     "shell.execute_reply": "2024-12-02T20:25:58.272004Z"
    },
    "papermill": {
     "duration": 0.027826,
     "end_time": "2024-12-02T20:25:58.275696",
     "exception": false,
     "start_time": "2024-12-02T20:25:58.247870",
     "status": "completed"
    },
    "tags": []
   },
   "outputs": [
    {
     "data": {
      "text/plain": [
       "2025 Rank                          object\n",
       "2024 Rank                          object\n",
       "Institution Name                   object\n",
       "Location                           object\n",
       "Location Full                      object\n",
       "Size                               object\n",
       "Academic Reputation               float64\n",
       "Employer Reputation               float64\n",
       "Faculty Student                   float64\n",
       "Citations per Faculty             float64\n",
       "International Faculty             float64\n",
       "International Students            float64\n",
       "International Research Network    float64\n",
       "Employment Outcomes               float64\n",
       "Sustainability                    float64\n",
       "QS Overall Score                   object\n",
       "dtype: object"
      ]
     },
     "execution_count": 35,
     "metadata": {},
     "output_type": "execute_result"
    }
   ],
   "source": [
    "world_rankings_copy.dtypes"
   ]
  },
  {
   "cell_type": "code",
   "execution_count": 36,
   "id": "db409803",
   "metadata": {
    "execution": {
     "iopub.execute_input": "2024-12-02T20:25:58.309197Z",
     "iopub.status.busy": "2024-12-02T20:25:58.308770Z",
     "iopub.status.idle": "2024-12-02T20:25:58.324147Z",
     "shell.execute_reply": "2024-12-02T20:25:58.322564Z"
    },
    "id": "7zW8O5yx4Y9O",
    "papermill": {
     "duration": 0.03587,
     "end_time": "2024-12-02T20:25:58.327070",
     "exception": false,
     "start_time": "2024-12-02T20:25:58.291200",
     "status": "completed"
    },
    "tags": []
   },
   "outputs": [],
   "source": [
    "#world rankings - 2025 Rank - change to integer datatype\n",
    "world_rankings_copy['2025 Rank'] = world_rankings_copy['2025 Rank'].astype(int)\n",
    "\n",
    "#world rankings - 2025 Rank - change to integer datatype\n",
    "world_rankings_copy['2024 Rank'] = world_rankings_copy['2024 Rank'].astype(int)\n",
    "\n",
    "#world rankings - Student Size - change to category datatype\n",
    "world_rankings_copy['Student Size'] = world_rankings_copy['Size'].astype('category')"
   ]
  },
  {
   "cell_type": "code",
   "execution_count": 37,
   "id": "85e8da87",
   "metadata": {
    "execution": {
     "iopub.execute_input": "2024-12-02T20:25:58.361903Z",
     "iopub.status.busy": "2024-12-02T20:25:58.361522Z",
     "iopub.status.idle": "2024-12-02T20:25:58.370640Z",
     "shell.execute_reply": "2024-12-02T20:25:58.369285Z"
    },
    "id": "q6I_Sr7lxXi5",
    "papermill": {
     "duration": 0.030594,
     "end_time": "2024-12-02T20:25:58.373454",
     "exception": false,
     "start_time": "2024-12-02T20:25:58.342860",
     "status": "completed"
    },
    "tags": []
   },
   "outputs": [
    {
     "data": {
      "text/plain": [
       "2025 Rank                            int64\n",
       "2024 Rank                            int64\n",
       "Institution Name                    object\n",
       "Location                            object\n",
       "Location Full                       object\n",
       "Size                                object\n",
       "Academic Reputation                float64\n",
       "Employer Reputation                float64\n",
       "Faculty Student                    float64\n",
       "Citations per Faculty              float64\n",
       "International Faculty              float64\n",
       "International Students             float64\n",
       "International Research Network     float64\n",
       "Employment Outcomes                float64\n",
       "Sustainability                     float64\n",
       "QS Overall Score                    object\n",
       "Student Size                      category\n",
       "dtype: object"
      ]
     },
     "execution_count": 37,
     "metadata": {},
     "output_type": "execute_result"
    }
   ],
   "source": [
    "world_rankings_copy.dtypes"
   ]
  },
  {
   "cell_type": "markdown",
   "id": "849053e2",
   "metadata": {
    "papermill": {
     "duration": 0.015178,
     "end_time": "2024-12-02T20:25:58.405267",
     "exception": false,
     "start_time": "2024-12-02T20:25:58.390089",
     "status": "completed"
    },
    "tags": []
   },
   "source": [
    "Justification: Changed 2024 and 2025 Ranks to int data type for later numerical comparision. Changed Student Size to category data type because there are only a few variations between the entries in this column"
   ]
  },
  {
   "cell_type": "markdown",
   "id": "51eb7b5b",
   "metadata": {
    "papermill": {
     "duration": 0.015831,
     "end_time": "2024-12-02T20:25:58.437665",
     "exception": false,
     "start_time": "2024-12-02T20:25:58.421834",
     "status": "completed"
    },
    "tags": []
   },
   "source": [
    "### **Remove unnecessary variables and combine datasets**\n"
   ]
  },
  {
   "cell_type": "code",
   "execution_count": 38,
   "id": "bd37cee3",
   "metadata": {
    "execution": {
     "iopub.execute_input": "2024-12-02T20:25:58.471053Z",
     "iopub.status.busy": "2024-12-02T20:25:58.470655Z",
     "iopub.status.idle": "2024-12-02T20:25:58.492487Z",
     "shell.execute_reply": "2024-12-02T20:25:58.491168Z"
    },
    "papermill": {
     "duration": 0.041403,
     "end_time": "2024-12-02T20:25:58.494975",
     "exception": false,
     "start_time": "2024-12-02T20:25:58.453572",
     "status": "completed"
    },
    "tags": []
   },
   "outputs": [
    {
     "data": {
      "text/html": [
       "<div>\n",
       "<style scoped>\n",
       "    .dataframe tbody tr th:only-of-type {\n",
       "        vertical-align: middle;\n",
       "    }\n",
       "\n",
       "    .dataframe tbody tr th {\n",
       "        vertical-align: top;\n",
       "    }\n",
       "\n",
       "    .dataframe thead th {\n",
       "        text-align: right;\n",
       "    }\n",
       "</style>\n",
       "<table border=\"1\" class=\"dataframe\">\n",
       "  <thead>\n",
       "    <tr style=\"text-align: right;\">\n",
       "      <th></th>\n",
       "      <th>2025 Rank</th>\n",
       "      <th>2024 Rank</th>\n",
       "      <th>Institution Name</th>\n",
       "      <th>Location</th>\n",
       "      <th>Location Full</th>\n",
       "      <th>Size</th>\n",
       "      <th>Academic Reputation</th>\n",
       "      <th>Employer Reputation</th>\n",
       "      <th>Faculty Student</th>\n",
       "      <th>Citations per Faculty</th>\n",
       "      <th>International Faculty</th>\n",
       "      <th>International Students</th>\n",
       "      <th>International Research Network</th>\n",
       "      <th>Employment Outcomes</th>\n",
       "      <th>Sustainability</th>\n",
       "      <th>QS Overall Score</th>\n",
       "      <th>Student Size</th>\n",
       "    </tr>\n",
       "  </thead>\n",
       "  <tbody>\n",
       "    <tr>\n",
       "      <th>0</th>\n",
       "      <td>1</td>\n",
       "      <td>1</td>\n",
       "      <td>Massachusetts Institute of Technology (MIT)</td>\n",
       "      <td>US</td>\n",
       "      <td>United States</td>\n",
       "      <td>M</td>\n",
       "      <td>100.0</td>\n",
       "      <td>100.0</td>\n",
       "      <td>100.0</td>\n",
       "      <td>100.0</td>\n",
       "      <td>99.3</td>\n",
       "      <td>86.8</td>\n",
       "      <td>96.0</td>\n",
       "      <td>100.0</td>\n",
       "      <td>99.0</td>\n",
       "      <td>100</td>\n",
       "      <td>M</td>\n",
       "    </tr>\n",
       "    <tr>\n",
       "      <th>1</th>\n",
       "      <td>2</td>\n",
       "      <td>6</td>\n",
       "      <td>Imperial College London</td>\n",
       "      <td>UK</td>\n",
       "      <td>United Kingdom</td>\n",
       "      <td>L</td>\n",
       "      <td>98.5</td>\n",
       "      <td>99.5</td>\n",
       "      <td>98.2</td>\n",
       "      <td>93.9</td>\n",
       "      <td>100.0</td>\n",
       "      <td>99.6</td>\n",
       "      <td>97.4</td>\n",
       "      <td>93.4</td>\n",
       "      <td>99.7</td>\n",
       "      <td>98.5</td>\n",
       "      <td>L</td>\n",
       "    </tr>\n",
       "    <tr>\n",
       "      <th>2</th>\n",
       "      <td>3</td>\n",
       "      <td>3</td>\n",
       "      <td>University of Oxford</td>\n",
       "      <td>UK</td>\n",
       "      <td>United Kingdom</td>\n",
       "      <td>L</td>\n",
       "      <td>100.0</td>\n",
       "      <td>100.0</td>\n",
       "      <td>100.0</td>\n",
       "      <td>84.8</td>\n",
       "      <td>98.1</td>\n",
       "      <td>97.7</td>\n",
       "      <td>100.0</td>\n",
       "      <td>100.0</td>\n",
       "      <td>85.0</td>\n",
       "      <td>96.9</td>\n",
       "      <td>L</td>\n",
       "    </tr>\n",
       "    <tr>\n",
       "      <th>3</th>\n",
       "      <td>4</td>\n",
       "      <td>4</td>\n",
       "      <td>Harvard University</td>\n",
       "      <td>US</td>\n",
       "      <td>United States</td>\n",
       "      <td>L</td>\n",
       "      <td>100.0</td>\n",
       "      <td>100.0</td>\n",
       "      <td>96.3</td>\n",
       "      <td>100.0</td>\n",
       "      <td>74.1</td>\n",
       "      <td>69.0</td>\n",
       "      <td>99.6</td>\n",
       "      <td>100.0</td>\n",
       "      <td>84.4</td>\n",
       "      <td>96.8</td>\n",
       "      <td>L</td>\n",
       "    </tr>\n",
       "    <tr>\n",
       "      <th>4</th>\n",
       "      <td>5</td>\n",
       "      <td>2</td>\n",
       "      <td>University of Cambridge</td>\n",
       "      <td>UK</td>\n",
       "      <td>United Kingdom</td>\n",
       "      <td>L</td>\n",
       "      <td>100.0</td>\n",
       "      <td>100.0</td>\n",
       "      <td>100.0</td>\n",
       "      <td>84.6</td>\n",
       "      <td>100.0</td>\n",
       "      <td>94.8</td>\n",
       "      <td>99.3</td>\n",
       "      <td>100.0</td>\n",
       "      <td>84.8</td>\n",
       "      <td>96.7</td>\n",
       "      <td>L</td>\n",
       "    </tr>\n",
       "  </tbody>\n",
       "</table>\n",
       "</div>"
      ],
      "text/plain": [
       "   2025 Rank  2024 Rank                              Institution Name  \\\n",
       "0          1          1  Massachusetts Institute of Technology (MIT)    \n",
       "1          2          6                       Imperial College London   \n",
       "2          3          3                          University of Oxford   \n",
       "3          4          4                            Harvard University   \n",
       "4          5          2                       University of Cambridge   \n",
       "\n",
       "  Location   Location Full Size  Academic Reputation  Employer Reputation  \\\n",
       "0       US   United States    M                100.0                100.0   \n",
       "1       UK  United Kingdom    L                 98.5                 99.5   \n",
       "2       UK  United Kingdom    L                100.0                100.0   \n",
       "3       US   United States    L                100.0                100.0   \n",
       "4       UK  United Kingdom    L                100.0                100.0   \n",
       "\n",
       "   Faculty Student  Citations per Faculty  International Faculty  \\\n",
       "0            100.0                  100.0                   99.3   \n",
       "1             98.2                   93.9                  100.0   \n",
       "2            100.0                   84.8                   98.1   \n",
       "3             96.3                  100.0                   74.1   \n",
       "4            100.0                   84.6                  100.0   \n",
       "\n",
       "   International Students  International Research Network  \\\n",
       "0                    86.8                            96.0   \n",
       "1                    99.6                            97.4   \n",
       "2                    97.7                           100.0   \n",
       "3                    69.0                            99.6   \n",
       "4                    94.8                            99.3   \n",
       "\n",
       "   Employment Outcomes  Sustainability QS Overall Score Student Size  \n",
       "0                100.0            99.0              100            M  \n",
       "1                 93.4            99.7             98.5            L  \n",
       "2                100.0            85.0             96.9            L  \n",
       "3                100.0            84.4             96.8            L  \n",
       "4                100.0            84.8             96.7            L  "
      ]
     },
     "execution_count": 38,
     "metadata": {},
     "output_type": "execute_result"
    }
   ],
   "source": [
    "world_rankings_copy.head()"
   ]
  },
  {
   "cell_type": "code",
   "execution_count": 39,
   "id": "8dce3b26",
   "metadata": {
    "execution": {
     "iopub.execute_input": "2024-12-02T20:25:58.530062Z",
     "iopub.status.busy": "2024-12-02T20:25:58.529615Z",
     "iopub.status.idle": "2024-12-02T20:25:58.545553Z",
     "shell.execute_reply": "2024-12-02T20:25:58.544287Z"
    },
    "papermill": {
     "duration": 0.036135,
     "end_time": "2024-12-02T20:25:58.548060",
     "exception": false,
     "start_time": "2024-12-02T20:25:58.511925",
     "status": "completed"
    },
    "tags": []
   },
   "outputs": [
    {
     "data": {
      "text/html": [
       "<div>\n",
       "<style scoped>\n",
       "    .dataframe tbody tr th:only-of-type {\n",
       "        vertical-align: middle;\n",
       "    }\n",
       "\n",
       "    .dataframe tbody tr th {\n",
       "        vertical-align: top;\n",
       "    }\n",
       "\n",
       "    .dataframe thead th {\n",
       "        text-align: right;\n",
       "    }\n",
       "</style>\n",
       "<table border=\"1\" class=\"dataframe\">\n",
       "  <thead>\n",
       "    <tr style=\"text-align: right;\">\n",
       "      <th></th>\n",
       "      <th>2024 Rank</th>\n",
       "      <th>Institution Name</th>\n",
       "    </tr>\n",
       "  </thead>\n",
       "  <tbody>\n",
       "    <tr>\n",
       "      <th>0</th>\n",
       "      <td>1</td>\n",
       "      <td>Massachusetts Institute of Technology (MIT)</td>\n",
       "    </tr>\n",
       "    <tr>\n",
       "      <th>1</th>\n",
       "      <td>2</td>\n",
       "      <td>University of Cambridge</td>\n",
       "    </tr>\n",
       "    <tr>\n",
       "      <th>2</th>\n",
       "      <td>3</td>\n",
       "      <td>University of Oxford</td>\n",
       "    </tr>\n",
       "    <tr>\n",
       "      <th>3</th>\n",
       "      <td>4</td>\n",
       "      <td>Harvard University</td>\n",
       "    </tr>\n",
       "    <tr>\n",
       "      <th>4</th>\n",
       "      <td>5</td>\n",
       "      <td>Stanford University</td>\n",
       "    </tr>\n",
       "  </tbody>\n",
       "</table>\n",
       "</div>"
      ],
      "text/plain": [
       "   2024 Rank                              Institution Name\n",
       "0          1  Massachusetts Institute of Technology (MIT) \n",
       "1          2                       University of Cambridge\n",
       "2          3                          University of Oxford\n",
       "3          4                            Harvard University\n",
       "4          5                           Stanford University"
      ]
     },
     "execution_count": 39,
     "metadata": {},
     "output_type": "execute_result"
    }
   ],
   "source": [
    "#world_rankings - only keep 2024 Rank and Institution Name columns\n",
    "world_rankings_copy = world_rankings_copy[['2024 Rank', 'Institution Name']]\n",
    "\n",
    "#world_rankings - sort by rank for readablity\n",
    "world_rankings_copy = world_rankings_copy.sort_values(by='2024 Rank')\n",
    "\n",
    "#reset index\n",
    "world_rankings_copy = world_rankings_copy.reset_index(drop=True)\n",
    "world_rankings_copy.head()"
   ]
  },
  {
   "cell_type": "code",
   "execution_count": 40,
   "id": "39185658",
   "metadata": {
    "execution": {
     "iopub.execute_input": "2024-12-02T20:25:58.582091Z",
     "iopub.status.busy": "2024-12-02T20:25:58.581733Z",
     "iopub.status.idle": "2024-12-02T20:25:58.593284Z",
     "shell.execute_reply": "2024-12-02T20:25:58.592124Z"
    },
    "papermill": {
     "duration": 0.031561,
     "end_time": "2024-12-02T20:25:58.595737",
     "exception": false,
     "start_time": "2024-12-02T20:25:58.564176",
     "status": "completed"
    },
    "scrolled": true,
    "tags": []
   },
   "outputs": [
    {
     "data": {
      "text/html": [
       "<div>\n",
       "<style scoped>\n",
       "    .dataframe tbody tr th:only-of-type {\n",
       "        vertical-align: middle;\n",
       "    }\n",
       "\n",
       "    .dataframe tbody tr th {\n",
       "        vertical-align: top;\n",
       "    }\n",
       "\n",
       "    .dataframe thead th {\n",
       "        text-align: right;\n",
       "    }\n",
       "</style>\n",
       "<table border=\"1\" class=\"dataframe\">\n",
       "  <thead>\n",
       "    <tr style=\"text-align: right;\">\n",
       "      <th></th>\n",
       "      <th>In-State Tuition</th>\n",
       "      <th>Out-Of-State Tuition</th>\n",
       "      <th>Student Size</th>\n",
       "      <th>Institution Name</th>\n",
       "      <th>Location</th>\n",
       "      <th>id</th>\n",
       "    </tr>\n",
       "  </thead>\n",
       "  <tbody>\n",
       "    <tr>\n",
       "      <th>0</th>\n",
       "      <td>31650</td>\n",
       "      <td>31650</td>\n",
       "      <td>1028</td>\n",
       "      <td>Arizona Christian University</td>\n",
       "      <td>AZ</td>\n",
       "      <td>105899</td>\n",
       "    </tr>\n",
       "  </tbody>\n",
       "</table>\n",
       "</div>"
      ],
      "text/plain": [
       "  In-State Tuition Out-Of-State Tuition  Student Size  \\\n",
       "0            31650                31650          1028   \n",
       "\n",
       "               Institution Name Location      id  \n",
       "0  Arizona Christian University       AZ  105899  "
      ]
     },
     "execution_count": 40,
     "metadata": {},
     "output_type": "execute_result"
    }
   ],
   "source": [
    "scorecard_copy.head(1)"
   ]
  },
  {
   "cell_type": "code",
   "execution_count": 41,
   "id": "05bb095a",
   "metadata": {
    "execution": {
     "iopub.execute_input": "2024-12-02T20:25:58.629487Z",
     "iopub.status.busy": "2024-12-02T20:25:58.629086Z",
     "iopub.status.idle": "2024-12-02T20:25:58.641690Z",
     "shell.execute_reply": "2024-12-02T20:25:58.640262Z"
    },
    "papermill": {
     "duration": 0.032081,
     "end_time": "2024-12-02T20:25:58.643903",
     "exception": false,
     "start_time": "2024-12-02T20:25:58.611822",
     "status": "completed"
    },
    "tags": []
   },
   "outputs": [
    {
     "data": {
      "text/html": [
       "<div>\n",
       "<style scoped>\n",
       "    .dataframe tbody tr th:only-of-type {\n",
       "        vertical-align: middle;\n",
       "    }\n",
       "\n",
       "    .dataframe tbody tr th {\n",
       "        vertical-align: top;\n",
       "    }\n",
       "\n",
       "    .dataframe thead th {\n",
       "        text-align: right;\n",
       "    }\n",
       "</style>\n",
       "<table border=\"1\" class=\"dataframe\">\n",
       "  <thead>\n",
       "    <tr style=\"text-align: right;\">\n",
       "      <th></th>\n",
       "      <th>Institution Name</th>\n",
       "      <th>In-State Tuition</th>\n",
       "      <th>Out-Of-State Tuition</th>\n",
       "    </tr>\n",
       "  </thead>\n",
       "  <tbody>\n",
       "    <tr>\n",
       "      <th>0</th>\n",
       "      <td>Arizona Christian University</td>\n",
       "      <td>31650</td>\n",
       "      <td>31650</td>\n",
       "    </tr>\n",
       "    <tr>\n",
       "      <th>1</th>\n",
       "      <td>Yavapai College</td>\n",
       "      <td>2680</td>\n",
       "      <td>9340</td>\n",
       "    </tr>\n",
       "    <tr>\n",
       "      <th>2</th>\n",
       "      <td>University of Arkansas at Little Rock</td>\n",
       "      <td>8366</td>\n",
       "      <td>18957</td>\n",
       "    </tr>\n",
       "    <tr>\n",
       "      <th>3</th>\n",
       "      <td>Arkansas Baptist College</td>\n",
       "      <td>8760</td>\n",
       "      <td>8760</td>\n",
       "    </tr>\n",
       "    <tr>\n",
       "      <th>4</th>\n",
       "      <td>Lyon College</td>\n",
       "      <td>31000</td>\n",
       "      <td>31000</td>\n",
       "    </tr>\n",
       "  </tbody>\n",
       "</table>\n",
       "</div>"
      ],
      "text/plain": [
       "                        Institution Name In-State Tuition Out-Of-State Tuition\n",
       "0           Arizona Christian University            31650                31650\n",
       "1                        Yavapai College             2680                 9340\n",
       "2  University of Arkansas at Little Rock             8366                18957\n",
       "3               Arkansas Baptist College             8760                 8760\n",
       "4                           Lyon College            31000                31000"
      ]
     },
     "execution_count": 41,
     "metadata": {},
     "output_type": "execute_result"
    }
   ],
   "source": [
    "#scorecard - only keep Institution Name, In-State Tuition, Out-Of-State Tuition\n",
    "scorecard_copy = scorecard_copy[['Institution Name', 'In-State Tuition', 'Out-Of-State Tuition']]\n",
    "scorecard_copy.head()"
   ]
  },
  {
   "cell_type": "code",
   "execution_count": 42,
   "id": "776fe92e",
   "metadata": {
    "execution": {
     "iopub.execute_input": "2024-12-02T20:25:58.678234Z",
     "iopub.status.busy": "2024-12-02T20:25:58.677884Z",
     "iopub.status.idle": "2024-12-02T20:25:58.709113Z",
     "shell.execute_reply": "2024-12-02T20:25:58.707738Z"
    },
    "papermill": {
     "duration": 0.051405,
     "end_time": "2024-12-02T20:25:58.711613",
     "exception": false,
     "start_time": "2024-12-02T20:25:58.660208",
     "status": "completed"
    },
    "tags": []
   },
   "outputs": [
    {
     "data": {
      "text/html": [
       "<div>\n",
       "<style scoped>\n",
       "    .dataframe tbody tr th:only-of-type {\n",
       "        vertical-align: middle;\n",
       "    }\n",
       "\n",
       "    .dataframe tbody tr th {\n",
       "        vertical-align: top;\n",
       "    }\n",
       "\n",
       "    .dataframe thead th {\n",
       "        text-align: right;\n",
       "    }\n",
       "</style>\n",
       "<table border=\"1\" class=\"dataframe\">\n",
       "  <thead>\n",
       "    <tr style=\"text-align: right;\">\n",
       "      <th></th>\n",
       "      <th>2024 Rank</th>\n",
       "      <th>Institution Name</th>\n",
       "      <th>In-State Tuition</th>\n",
       "      <th>Out-Of-State Tuition</th>\n",
       "      <th>Ranking Tier</th>\n",
       "    </tr>\n",
       "  </thead>\n",
       "  <tbody>\n",
       "    <tr>\n",
       "      <th>0</th>\n",
       "      <td>4</td>\n",
       "      <td>Harvard University</td>\n",
       "      <td>57261</td>\n",
       "      <td>57261</td>\n",
       "      <td>1-100</td>\n",
       "    </tr>\n",
       "    <tr>\n",
       "      <th>1</th>\n",
       "      <td>5</td>\n",
       "      <td>Stanford University</td>\n",
       "      <td>58416</td>\n",
       "      <td>58416</td>\n",
       "      <td>1-100</td>\n",
       "    </tr>\n",
       "    <tr>\n",
       "      <th>2</th>\n",
       "      <td>11</td>\n",
       "      <td>University of Chicago</td>\n",
       "      <td>64260</td>\n",
       "      <td>64260</td>\n",
       "      <td>1-100</td>\n",
       "    </tr>\n",
       "    <tr>\n",
       "      <th>3</th>\n",
       "      <td>12</td>\n",
       "      <td>University of Pennsylvania</td>\n",
       "      <td>63452</td>\n",
       "      <td>63452</td>\n",
       "      <td>1-100</td>\n",
       "    </tr>\n",
       "    <tr>\n",
       "      <th>4</th>\n",
       "      <td>13</td>\n",
       "      <td>Cornell University</td>\n",
       "      <td>63200</td>\n",
       "      <td>63200</td>\n",
       "      <td>1-100</td>\n",
       "    </tr>\n",
       "  </tbody>\n",
       "</table>\n",
       "</div>"
      ],
      "text/plain": [
       "   2024 Rank            Institution Name In-State Tuition  \\\n",
       "0          4          Harvard University            57261   \n",
       "1          5         Stanford University            58416   \n",
       "2         11       University of Chicago            64260   \n",
       "3         12  University of Pennsylvania            63452   \n",
       "4         13          Cornell University            63200   \n",
       "\n",
       "  Out-Of-State Tuition Ranking Tier  \n",
       "0                57261        1-100  \n",
       "1                58416        1-100  \n",
       "2                64260        1-100  \n",
       "3                63452        1-100  \n",
       "4                63200        1-100  "
      ]
     },
     "execution_count": 42,
     "metadata": {},
     "output_type": "execute_result"
    }
   ],
   "source": [
    "#inner merge dfs on Institution Name\n",
    "merged_df = pd.merge(world_rankings_copy, scorecard_copy, on='Institution Name', how='inner')\n",
    "\n",
    "#create ranking tier columns for later comparison\n",
    "merged_df['Ranking Tier'] = pd.cut(merged_df['2024 Rank'], bins=[0, 100, 500, 1000], labels=['1-100', '101-500', '501-1000'])\n",
    "\n",
    "#verify changes\n",
    "merged_df.head()"
   ]
  },
  {
   "cell_type": "markdown",
   "id": "8bbab2b6",
   "metadata": {
    "id": "F42urHuzttjF",
    "papermill": {
     "duration": 0.016447,
     "end_time": "2024-12-02T20:25:58.745969",
     "exception": false,
     "start_time": "2024-12-02T20:25:58.729522",
     "status": "completed"
    },
    "tags": []
   },
   "source": [
    "## Update your data store"
   ]
  },
  {
   "cell_type": "code",
   "execution_count": 43,
   "id": "93343a1d",
   "metadata": {
    "execution": {
     "iopub.execute_input": "2024-12-02T20:25:58.781008Z",
     "iopub.status.busy": "2024-12-02T20:25:58.780646Z",
     "iopub.status.idle": "2024-12-02T20:25:58.789575Z",
     "shell.execute_reply": "2024-12-02T20:25:58.788354Z"
    },
    "id": "V3uay7EJUV_L",
    "papermill": {
     "duration": 0.029638,
     "end_time": "2024-12-02T20:25:58.792197",
     "exception": false,
     "start_time": "2024-12-02T20:25:58.762559",
     "status": "completed"
    },
    "tags": []
   },
   "outputs": [],
   "source": [
    "merged_df.to_csv(\"merged_data_cleaned.csv\", index=False)"
   ]
  },
  {
   "cell_type": "markdown",
   "id": "fbba3075",
   "metadata": {
    "id": "cGy_yddGtzhM",
    "papermill": {
     "duration": 0.016224,
     "end_time": "2024-12-02T20:25:58.825046",
     "exception": false,
     "start_time": "2024-12-02T20:25:58.808822",
     "status": "completed"
    },
    "tags": []
   },
   "source": [
    "## Answer the research question: \n",
    "### Is there a correlation between student tuition and school ranking?"
   ]
  },
  {
   "cell_type": "code",
   "execution_count": 44,
   "id": "593741c9",
   "metadata": {
    "execution": {
     "iopub.execute_input": "2024-12-02T20:25:58.861364Z",
     "iopub.status.busy": "2024-12-02T20:25:58.860497Z",
     "iopub.status.idle": "2024-12-02T20:25:59.278204Z",
     "shell.execute_reply": "2024-12-02T20:25:59.276950Z"
    },
    "id": "Lkw3rW9kZmOm",
    "papermill": {
     "duration": 0.438945,
     "end_time": "2024-12-02T20:25:59.280441",
     "exception": false,
     "start_time": "2024-12-02T20:25:58.841496",
     "status": "completed"
    },
    "tags": []
   },
   "outputs": [
    {
     "data": {
      "image/png": "[encoded data removed]",
      "text/plain": [
       "<Figure size 1000x600 with 1 Axes>"
      ]
     },
     "metadata": {},
     "output_type": "display_data"
    }
   ],
   "source": [
    "#create scatter plot\n",
    "plt.figure(figsize=(10, 6))\n",
    "plt.scatter(merged_df['In-State Tuition'], merged_df['2024 Rank'], label='In-State Tuition', alpha=0.7, color='orange')\n",
    "plt.scatter(merged_df['Out-Of-State Tuition'], merged_df['2024 Rank'], label='Out-Of-State Tuition', alpha=0.7, color='purple')\n",
    "plt.xlabel('Tuition')\n",
    "plt.ylabel('2024 Rank')\n",
    "plt.title('2024 Rank vs Tuition (In-State and Out-of-State)')\n",
    "plt.legend()\n",
    "plt.gca().invert_yaxis()  #shows lower ranks (1+) higher on y-axis for better visual\n",
    "plt.grid(True)\n",
    "plt.show()"
   ]
  },
  {
   "cell_type": "markdown",
   "id": "200be86c",
   "metadata": {
    "papermill": {
     "duration": 0.016739,
     "end_time": "2024-12-02T20:25:59.314515",
     "exception": false,
     "start_time": "2024-12-02T20:25:59.297776",
     "status": "completed"
    },
    "tags": []
   },
   "source": [
    "**Analysis of scatter plot:** \n",
    "\n",
    "The analysis reveals a positive corelation between student tuition and school ranking, which suggests schools with higher tuition fees generally tend to rank higher according to 2024 rankings. However the trend is not completely uniform across all data poinits. Notably there are a two schools with lower tution that rank within the top 100.\n",
    "\n",
    "These outliers indicate that while tuition may reflect resources and prestige, other factors such  as public funding, regional policies or exceptional acedmic performance cold play a significant role in the high ranking. This highlights that tuition alone is not the sole determinant of a school's position in the rankings."
   ]
  },
  {
   "cell_type": "code",
   "execution_count": 45,
   "id": "e6892600",
   "metadata": {
    "execution": {
     "iopub.execute_input": "2024-12-02T20:25:59.353454Z",
     "iopub.status.busy": "2024-12-02T20:25:59.352992Z",
     "iopub.status.idle": "2024-12-02T20:25:59.621872Z",
     "shell.execute_reply": "2024-12-02T20:25:59.620658Z"
    },
    "id": "6fdK_8ZGZm9R",
    "papermill": {
     "duration": 0.290567,
     "end_time": "2024-12-02T20:25:59.624351",
     "exception": false,
     "start_time": "2024-12-02T20:25:59.333784",
     "status": "completed"
    },
    "tags": []
   },
   "outputs": [
    {
     "name": "stderr",
     "output_type": "stream",
     "text": [
      "/tmp/ipykernel_17/2904444338.py:2: FutureWarning: The default of observed=False is deprecated and will be changed to True in a future version of pandas. Pass observed=False to retain current behavior or observed=True to adopt the future default and silence this warning.\n",
      "  tuition_by_tier = merged_df.groupby('Ranking Tier')[['In-State Tuition', 'Out-Of-State Tuition']].mean().reset_index()\n"
     ]
    },
    {
     "data": {
      "image/png": "[encoded data removed]",
      "text/plain": [
       "<Figure size 1000x600 with 1 Axes>"
      ]
     },
     "metadata": {},
     "output_type": "display_data"
    }
   ],
   "source": [
    "#group by ranking tier and calculate average for tuitions\n",
    "tuition_by_tier = merged_df.groupby('Ranking Tier')[['In-State Tuition', 'Out-Of-State Tuition']].mean().reset_index()\n",
    "\n",
    "#plot the averages for each tuition type\n",
    "tuition_by_tier.plot(\n",
    "    x='Ranking Tier',\n",
    "    kind='bar',\n",
    "    figsize=(10, 6),\n",
    "    width=0.8,\n",
    "    color=['black', 'silver'],  #black = in-state, silber=out-of-state\n",
    ")\n",
    "\n",
    "#add labels and title\n",
    "plt.title('Average In-State and Out-of-State Tuition by Ranking Tier')\n",
    "plt.ylabel('Average Tuition')\n",
    "plt.xlabel('Ranking Tier')\n",
    "plt.grid(axis='y')\n",
    "plt.legend(['In-State Tuition', 'Out-of-State Tuition'])\n",
    "plt.show()"
   ]
  },
  {
   "cell_type": "markdown",
   "id": "e7ce5887",
   "metadata": {
    "id": "K5RgvMGUZoHn",
    "papermill": {
     "duration": 0.017976,
     "end_time": "2024-12-02T20:25:59.660424",
     "exception": false,
     "start_time": "2024-12-02T20:25:59.642448",
     "status": "completed"
    },
    "tags": []
   },
   "source": [
    "**Analysis of distribution chart:** \n",
    "\n",
    "While there is a general trend of higher tuition being associated with higher rankings, the inconsistency in the lower-tier group highlights that the relationship is not strictly linear. This anomaly also suggests that factors other than tuition play a role in school rankings."
   ]
  },
  {
   "cell_type": "markdown",
   "id": "f4ee3891",
   "metadata": {
    "id": "0ezWXXZVj-TP",
    "papermill": {
     "duration": 0.080733,
     "end_time": "2024-12-02T20:25:59.759250",
     "exception": false,
     "start_time": "2024-12-02T20:25:59.678517",
     "status": "completed"
    },
    "tags": []
   },
   "source": [
    "### Reflection"
   ]
  },
  {
   "cell_type": "markdown",
   "id": "9a025e72",
   "metadata": {
    "id": "XB3RBDG5kFe1",
    "papermill": {
     "duration": 0.017918,
     "end_time": "2024-12-02T20:25:59.796088",
     "exception": false,
     "start_time": "2024-12-02T20:25:59.778170",
     "status": "completed"
    },
    "tags": []
   },
   "source": [
    "Further analysis to obtain a more comprehensive understanding of the correlation between tuition and rankings could include:\n",
    "\n",
    "* Exploring the impact of other factors on school rankings, such a funding, faculty quality and student outcomes\n",
    "* Exploring the potentional regional or institutional factors that could influence tuition rates and/or rankings\n",
    "* Obtaining the exact rankings of the schools that were removed when rankings with + or - where removed"
   ]
  }
 ],
 "metadata": {
  "colab": {
   "provenance": []
  },
  "kaggle": {
   "accelerator": "none",
   "dataSources": [
    {
     "datasetId": 5178606,
     "sourceId": 8646328,
     "sourceType": "datasetVersion"
    },
    {
     "datasetId": 6214331,
     "sourceId": 10080315,
     "sourceType": "datasetVersion"
    }
   ],
   "dockerImageVersionId": 30786,
   "isGpuEnabled": false,
   "isInternetEnabled": true,
   "language": "python",
   "sourceType": "notebook"
  },
  "kernelspec": {
   "display_name": "Python 3",
   "language": "python",
   "name": "python3"
  },
  "language_info": {
   "codemirror_mode": {
    "name": "ipython",
    "version": 3
   },
   "file_extension": ".py",
   "mimetype": "text/x-python",
   "name": "python",
   "nbconvert_exporter": "python",
   "pygments_lexer": "ipython3",
   "version": "3.10.14"
  },
  "papermill": {
   "default_parameters": {},
   "duration": 83.614112,
   "end_time": "2024-12-02T20:26:00.435941",
   "environment_variables": {},
   "exception": null,
   "input_path": "__notebook__.ipynb",
   "output_path": "__notebook__.ipynb",
   "parameters": {},
   "start_time": "2024-12-02T20:24:36.821829",
   "version": "2.6.0"
  }
 },
 "nbformat": 4,
 "nbformat_minor": 5
}
